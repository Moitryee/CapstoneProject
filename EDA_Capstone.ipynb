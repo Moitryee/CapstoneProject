{
  "nbformat": 4,
  "nbformat_minor": 0,
  "metadata": {
    "colab": {
      "provenance": []
    },
    "kernelspec": {
      "name": "python3",
      "display_name": "Python 3"
    },
    "language_info": {
      "name": "python"
    }
  },
  "cells": [
    {
      "cell_type": "markdown",
      "source": [
        "Importing important Library"
      ],
      "metadata": {
        "id": "n-hci-WZDgAn"
      }
    },
    {
      "cell_type": "code",
      "execution_count": null,
      "metadata": {
        "id": "hrPj-wmpDqVb"
      },
      "outputs": [],
      "source": [
        "import pandas as pd\n",
        "import numpy as np\n",
        "from datetime import datetime\n",
        "import matplotlib.pyplot as plt\n",
        "import seaborn as sns\n"
      ]
    },
    {
      "cell_type": "markdown",
      "source": [
        "Importing data"
      ],
      "metadata": {
        "id": "fUm9qcwlEw3l"
      }
    },
    {
      "cell_type": "code",
      "source": [
        "df=pd.read_csv(\"stocksprices.csv\")\n",
        "df.head(3)\n",
        "df.drop(\"Unnamed: 0\",axis=1,inplace=True)\n",
        "df.drop(\"Unnamed: 4\",axis=1,inplace=True)\n",
        "df.drop(\"Unnamed: 5\",axis=1,inplace=True)\n",
        "df.drop(\"Unnamed: 6\",axis=1,inplace=True)\n",
        "df.drop(\"Unnamed: 7\",axis=1,inplace=True)\n",
        "df.drop(\"Unnamed: 8\",axis=1,inplace=True)\n",
        "df.drop(\"Unnamed: 9\",axis=1,inplace=True)\n",
        "df.drop(\"Unnamed: 10\",axis=1,inplace=True)\n",
        "df.drop(\"Unnamed: 11\",axis=1,inplace=True)\n",
        "df.drop(\"Unnamed: 12\",axis=1,inplace=True)\n",
        "df.head(3)"
      ],
      "metadata": {
        "colab": {
          "base_uri": "https://localhost:8080/",
          "height": 143
        },
        "collapsed": true,
        "id": "1BEm0aMyEu5-",
        "outputId": "9c21e27c-e6e7-45f4-c843-5e971311702a"
      },
      "execution_count": null,
      "outputs": [
        {
          "output_type": "execute_result",
          "data": {
            "text/plain": [
              "         DATE   Close Company\n",
              "0  18-10-2024  334.05   ABFRL\n",
              "1  17-10-2024   330.7   ABFRL\n",
              "2  16-10-2024  343.45   ABFRL"
            ],
            "text/html": [
              "\n",
              "  <div id=\"df-06a93bd0-58a0-436c-8672-ddd01161744f\" class=\"colab-df-container\">\n",
              "    <div>\n",
              "<style scoped>\n",
              "    .dataframe tbody tr th:only-of-type {\n",
              "        vertical-align: middle;\n",
              "    }\n",
              "\n",
              "    .dataframe tbody tr th {\n",
              "        vertical-align: top;\n",
              "    }\n",
              "\n",
              "    .dataframe thead th {\n",
              "        text-align: right;\n",
              "    }\n",
              "</style>\n",
              "<table border=\"1\" class=\"dataframe\">\n",
              "  <thead>\n",
              "    <tr style=\"text-align: right;\">\n",
              "      <th></th>\n",
              "      <th>DATE</th>\n",
              "      <th>Close</th>\n",
              "      <th>Company</th>\n",
              "    </tr>\n",
              "  </thead>\n",
              "  <tbody>\n",
              "    <tr>\n",
              "      <th>0</th>\n",
              "      <td>18-10-2024</td>\n",
              "      <td>334.05</td>\n",
              "      <td>ABFRL</td>\n",
              "    </tr>\n",
              "    <tr>\n",
              "      <th>1</th>\n",
              "      <td>17-10-2024</td>\n",
              "      <td>330.7</td>\n",
              "      <td>ABFRL</td>\n",
              "    </tr>\n",
              "    <tr>\n",
              "      <th>2</th>\n",
              "      <td>16-10-2024</td>\n",
              "      <td>343.45</td>\n",
              "      <td>ABFRL</td>\n",
              "    </tr>\n",
              "  </tbody>\n",
              "</table>\n",
              "</div>\n",
              "    <div class=\"colab-df-buttons\">\n",
              "\n",
              "  <div class=\"colab-df-container\">\n",
              "    <button class=\"colab-df-convert\" onclick=\"convertToInteractive('df-06a93bd0-58a0-436c-8672-ddd01161744f')\"\n",
              "            title=\"Convert this dataframe to an interactive table.\"\n",
              "            style=\"display:none;\">\n",
              "\n",
              "  <svg xmlns=\"http://www.w3.org/2000/svg\" height=\"24px\" viewBox=\"0 -960 960 960\">\n",
              "    <path d=\"M120-120v-720h720v720H120Zm60-500h600v-160H180v160Zm220 220h160v-160H400v160Zm0 220h160v-160H400v160ZM180-400h160v-160H180v160Zm440 0h160v-160H620v160ZM180-180h160v-160H180v160Zm440 0h160v-160H620v160Z\"/>\n",
              "  </svg>\n",
              "    </button>\n",
              "\n",
              "  <style>\n",
              "    .colab-df-container {\n",
              "      display:flex;\n",
              "      gap: 12px;\n",
              "    }\n",
              "\n",
              "    .colab-df-convert {\n",
              "      background-color: #E8F0FE;\n",
              "      border: none;\n",
              "      border-radius: 50%;\n",
              "      cursor: pointer;\n",
              "      display: none;\n",
              "      fill: #1967D2;\n",
              "      height: 32px;\n",
              "      padding: 0 0 0 0;\n",
              "      width: 32px;\n",
              "    }\n",
              "\n",
              "    .colab-df-convert:hover {\n",
              "      background-color: #E2EBFA;\n",
              "      box-shadow: 0px 1px 2px rgba(60, 64, 67, 0.3), 0px 1px 3px 1px rgba(60, 64, 67, 0.15);\n",
              "      fill: #174EA6;\n",
              "    }\n",
              "\n",
              "    .colab-df-buttons div {\n",
              "      margin-bottom: 4px;\n",
              "    }\n",
              "\n",
              "    [theme=dark] .colab-df-convert {\n",
              "      background-color: #3B4455;\n",
              "      fill: #D2E3FC;\n",
              "    }\n",
              "\n",
              "    [theme=dark] .colab-df-convert:hover {\n",
              "      background-color: #434B5C;\n",
              "      box-shadow: 0px 1px 3px 1px rgba(0, 0, 0, 0.15);\n",
              "      filter: drop-shadow(0px 1px 2px rgba(0, 0, 0, 0.3));\n",
              "      fill: #FFFFFF;\n",
              "    }\n",
              "  </style>\n",
              "\n",
              "    <script>\n",
              "      const buttonEl =\n",
              "        document.querySelector('#df-06a93bd0-58a0-436c-8672-ddd01161744f button.colab-df-convert');\n",
              "      buttonEl.style.display =\n",
              "        google.colab.kernel.accessAllowed ? 'block' : 'none';\n",
              "\n",
              "      async function convertToInteractive(key) {\n",
              "        const element = document.querySelector('#df-06a93bd0-58a0-436c-8672-ddd01161744f');\n",
              "        const dataTable =\n",
              "          await google.colab.kernel.invokeFunction('convertToInteractive',\n",
              "                                                    [key], {});\n",
              "        if (!dataTable) return;\n",
              "\n",
              "        const docLinkHtml = 'Like what you see? Visit the ' +\n",
              "          '<a target=\"_blank\" href=https://colab.research.google.com/notebooks/data_table.ipynb>data table notebook</a>'\n",
              "          + ' to learn more about interactive tables.';\n",
              "        element.innerHTML = '';\n",
              "        dataTable['output_type'] = 'display_data';\n",
              "        await google.colab.output.renderOutput(dataTable, element);\n",
              "        const docLink = document.createElement('div');\n",
              "        docLink.innerHTML = docLinkHtml;\n",
              "        element.appendChild(docLink);\n",
              "      }\n",
              "    </script>\n",
              "  </div>\n",
              "\n",
              "\n",
              "<div id=\"df-a48c8157-8d22-4074-bf1d-2b269c21ba2a\">\n",
              "  <button class=\"colab-df-quickchart\" onclick=\"quickchart('df-a48c8157-8d22-4074-bf1d-2b269c21ba2a')\"\n",
              "            title=\"Suggest charts\"\n",
              "            style=\"display:none;\">\n",
              "\n",
              "<svg xmlns=\"http://www.w3.org/2000/svg\" height=\"24px\"viewBox=\"0 0 24 24\"\n",
              "     width=\"24px\">\n",
              "    <g>\n",
              "        <path d=\"M19 3H5c-1.1 0-2 .9-2 2v14c0 1.1.9 2 2 2h14c1.1 0 2-.9 2-2V5c0-1.1-.9-2-2-2zM9 17H7v-7h2v7zm4 0h-2V7h2v10zm4 0h-2v-4h2v4z\"/>\n",
              "    </g>\n",
              "</svg>\n",
              "  </button>\n",
              "\n",
              "<style>\n",
              "  .colab-df-quickchart {\n",
              "      --bg-color: #E8F0FE;\n",
              "      --fill-color: #1967D2;\n",
              "      --hover-bg-color: #E2EBFA;\n",
              "      --hover-fill-color: #174EA6;\n",
              "      --disabled-fill-color: #AAA;\n",
              "      --disabled-bg-color: #DDD;\n",
              "  }\n",
              "\n",
              "  [theme=dark] .colab-df-quickchart {\n",
              "      --bg-color: #3B4455;\n",
              "      --fill-color: #D2E3FC;\n",
              "      --hover-bg-color: #434B5C;\n",
              "      --hover-fill-color: #FFFFFF;\n",
              "      --disabled-bg-color: #3B4455;\n",
              "      --disabled-fill-color: #666;\n",
              "  }\n",
              "\n",
              "  .colab-df-quickchart {\n",
              "    background-color: var(--bg-color);\n",
              "    border: none;\n",
              "    border-radius: 50%;\n",
              "    cursor: pointer;\n",
              "    display: none;\n",
              "    fill: var(--fill-color);\n",
              "    height: 32px;\n",
              "    padding: 0;\n",
              "    width: 32px;\n",
              "  }\n",
              "\n",
              "  .colab-df-quickchart:hover {\n",
              "    background-color: var(--hover-bg-color);\n",
              "    box-shadow: 0 1px 2px rgba(60, 64, 67, 0.3), 0 1px 3px 1px rgba(60, 64, 67, 0.15);\n",
              "    fill: var(--button-hover-fill-color);\n",
              "  }\n",
              "\n",
              "  .colab-df-quickchart-complete:disabled,\n",
              "  .colab-df-quickchart-complete:disabled:hover {\n",
              "    background-color: var(--disabled-bg-color);\n",
              "    fill: var(--disabled-fill-color);\n",
              "    box-shadow: none;\n",
              "  }\n",
              "\n",
              "  .colab-df-spinner {\n",
              "    border: 2px solid var(--fill-color);\n",
              "    border-color: transparent;\n",
              "    border-bottom-color: var(--fill-color);\n",
              "    animation:\n",
              "      spin 1s steps(1) infinite;\n",
              "  }\n",
              "\n",
              "  @keyframes spin {\n",
              "    0% {\n",
              "      border-color: transparent;\n",
              "      border-bottom-color: var(--fill-color);\n",
              "      border-left-color: var(--fill-color);\n",
              "    }\n",
              "    20% {\n",
              "      border-color: transparent;\n",
              "      border-left-color: var(--fill-color);\n",
              "      border-top-color: var(--fill-color);\n",
              "    }\n",
              "    30% {\n",
              "      border-color: transparent;\n",
              "      border-left-color: var(--fill-color);\n",
              "      border-top-color: var(--fill-color);\n",
              "      border-right-color: var(--fill-color);\n",
              "    }\n",
              "    40% {\n",
              "      border-color: transparent;\n",
              "      border-right-color: var(--fill-color);\n",
              "      border-top-color: var(--fill-color);\n",
              "    }\n",
              "    60% {\n",
              "      border-color: transparent;\n",
              "      border-right-color: var(--fill-color);\n",
              "    }\n",
              "    80% {\n",
              "      border-color: transparent;\n",
              "      border-right-color: var(--fill-color);\n",
              "      border-bottom-color: var(--fill-color);\n",
              "    }\n",
              "    90% {\n",
              "      border-color: transparent;\n",
              "      border-bottom-color: var(--fill-color);\n",
              "    }\n",
              "  }\n",
              "</style>\n",
              "\n",
              "  <script>\n",
              "    async function quickchart(key) {\n",
              "      const quickchartButtonEl =\n",
              "        document.querySelector('#' + key + ' button');\n",
              "      quickchartButtonEl.disabled = true;  // To prevent multiple clicks.\n",
              "      quickchartButtonEl.classList.add('colab-df-spinner');\n",
              "      try {\n",
              "        const charts = await google.colab.kernel.invokeFunction(\n",
              "            'suggestCharts', [key], {});\n",
              "      } catch (error) {\n",
              "        console.error('Error during call to suggestCharts:', error);\n",
              "      }\n",
              "      quickchartButtonEl.classList.remove('colab-df-spinner');\n",
              "      quickchartButtonEl.classList.add('colab-df-quickchart-complete');\n",
              "    }\n",
              "    (() => {\n",
              "      let quickchartButtonEl =\n",
              "        document.querySelector('#df-a48c8157-8d22-4074-bf1d-2b269c21ba2a button');\n",
              "      quickchartButtonEl.style.display =\n",
              "        google.colab.kernel.accessAllowed ? 'block' : 'none';\n",
              "    })();\n",
              "  </script>\n",
              "</div>\n",
              "\n",
              "    </div>\n",
              "  </div>\n"
            ],
            "application/vnd.google.colaboratory.intrinsic+json": {
              "type": "dataframe",
              "variable_name": "df",
              "summary": "{\n  \"name\": \"df\",\n  \"rows\": 5215,\n  \"fields\": [\n    {\n      \"column\": \"DATE\",\n      \"properties\": {\n        \"dtype\": \"object\",\n        \"num_unique_values\": 993,\n        \"samples\": [\n          \"04-02-2021\",\n          \"07-09-2022\",\n          \"06-07-2022\"\n        ],\n        \"semantic_type\": \"\",\n        \"description\": \"\"\n      }\n    },\n    {\n      \"column\": \"Close\",\n      \"properties\": {\n        \"dtype\": \"string\",\n        \"num_unique_values\": 4638,\n        \"samples\": [\n          \"230.95\",\n          \"1964.5\",\n          \"309.35\"\n        ],\n        \"semantic_type\": \"\",\n        \"description\": \"\"\n      }\n    },\n    {\n      \"column\": \"Company\",\n      \"properties\": {\n        \"dtype\": \"category\",\n        \"num_unique_values\": 5,\n        \"samples\": [\n          \"Bajaj-Finance\",\n          \"Tata-Motors\",\n          \"Infosys\"\n        ],\n        \"semantic_type\": \"\",\n        \"description\": \"\"\n      }\n    }\n  ]\n}"
            }
          },
          "metadata": {},
          "execution_count": 4
        }
      ]
    },
    {
      "cell_type": "markdown",
      "source": [
        "###While importing the stockprice data many other columns also displayed which are redundent so droping the irrevent columns from the data."
      ],
      "metadata": {
        "id": "-UGcavXHoiPe"
      }
    },
    {
      "cell_type": "markdown",
      "source": [
        "## Data Preprocessing"
      ],
      "metadata": {
        "id": "T_-tHEUjGETI"
      }
    },
    {
      "cell_type": "code",
      "source": [
        "df.info()"
      ],
      "metadata": {
        "colab": {
          "base_uri": "https://localhost:8080/"
        },
        "collapsed": true,
        "id": "2cjj9kxYGpLO",
        "outputId": "3f5d9cd1-06e7-4b61-a0af-d4530ae66978"
      },
      "execution_count": null,
      "outputs": [
        {
          "output_type": "stream",
          "name": "stdout",
          "text": [
            "<class 'pandas.core.frame.DataFrame'>\n",
            "RangeIndex: 5215 entries, 0 to 5214\n",
            "Data columns (total 3 columns):\n",
            " #   Column   Non-Null Count  Dtype \n",
            "---  ------   --------------  ----- \n",
            " 0   DATE     5215 non-null   object\n",
            " 1   Close    5215 non-null   object\n",
            " 2   Company  5215 non-null   object\n",
            "dtypes: object(3)\n",
            "memory usage: 122.4+ KB\n"
          ]
        }
      ]
    },
    {
      "cell_type": "code",
      "source": [
        "df.sample(10)"
      ],
      "metadata": {
        "colab": {
          "base_uri": "https://localhost:8080/",
          "height": 363
        },
        "collapsed": true,
        "id": "Mue8wLwPHZVJ",
        "outputId": "9136336c-662f-4e8a-be24-4dc67ccfae70"
      },
      "execution_count": null,
      "outputs": [
        {
          "output_type": "execute_result",
          "data": {
            "text/plain": [
              "            DATE     Close        Company\n",
              "4723  07-10-2021     376.5    Tata-Motors\n",
              "2397  17-02-2023    1583.8        Infosys\n",
              "1920  21-01-2021  5,118.30  Bajaj-Finance\n",
              "2879  10-03-2021   1368.15        Infosys\n",
              "1553  15-07-2022  5,915.20  Bajaj-Finance\n",
              "4592  20-04-2022    440.55    Tata-Motors\n",
              "1736  21-10-2021  7,737.30  Bajaj-Finance\n",
              "2359  19-04-2023    1232.2        Infosys\n",
              "4979  16-07-2021    311.25    Tata-Motors\n",
              "4094  23-04-2024    986.75    Tata-Motors"
            ],
            "text/html": [
              "\n",
              "  <div id=\"df-fcb00da3-8938-4878-8de3-1437522f7fe9\" class=\"colab-df-container\">\n",
              "    <div>\n",
              "<style scoped>\n",
              "    .dataframe tbody tr th:only-of-type {\n",
              "        vertical-align: middle;\n",
              "    }\n",
              "\n",
              "    .dataframe tbody tr th {\n",
              "        vertical-align: top;\n",
              "    }\n",
              "\n",
              "    .dataframe thead th {\n",
              "        text-align: right;\n",
              "    }\n",
              "</style>\n",
              "<table border=\"1\" class=\"dataframe\">\n",
              "  <thead>\n",
              "    <tr style=\"text-align: right;\">\n",
              "      <th></th>\n",
              "      <th>DATE</th>\n",
              "      <th>Close</th>\n",
              "      <th>Company</th>\n",
              "    </tr>\n",
              "  </thead>\n",
              "  <tbody>\n",
              "    <tr>\n",
              "      <th>4723</th>\n",
              "      <td>07-10-2021</td>\n",
              "      <td>376.5</td>\n",
              "      <td>Tata-Motors</td>\n",
              "    </tr>\n",
              "    <tr>\n",
              "      <th>2397</th>\n",
              "      <td>17-02-2023</td>\n",
              "      <td>1583.8</td>\n",
              "      <td>Infosys</td>\n",
              "    </tr>\n",
              "    <tr>\n",
              "      <th>1920</th>\n",
              "      <td>21-01-2021</td>\n",
              "      <td>5,118.30</td>\n",
              "      <td>Bajaj-Finance</td>\n",
              "    </tr>\n",
              "    <tr>\n",
              "      <th>2879</th>\n",
              "      <td>10-03-2021</td>\n",
              "      <td>1368.15</td>\n",
              "      <td>Infosys</td>\n",
              "    </tr>\n",
              "    <tr>\n",
              "      <th>1553</th>\n",
              "      <td>15-07-2022</td>\n",
              "      <td>5,915.20</td>\n",
              "      <td>Bajaj-Finance</td>\n",
              "    </tr>\n",
              "    <tr>\n",
              "      <th>4592</th>\n",
              "      <td>20-04-2022</td>\n",
              "      <td>440.55</td>\n",
              "      <td>Tata-Motors</td>\n",
              "    </tr>\n",
              "    <tr>\n",
              "      <th>1736</th>\n",
              "      <td>21-10-2021</td>\n",
              "      <td>7,737.30</td>\n",
              "      <td>Bajaj-Finance</td>\n",
              "    </tr>\n",
              "    <tr>\n",
              "      <th>2359</th>\n",
              "      <td>19-04-2023</td>\n",
              "      <td>1232.2</td>\n",
              "      <td>Infosys</td>\n",
              "    </tr>\n",
              "    <tr>\n",
              "      <th>4979</th>\n",
              "      <td>16-07-2021</td>\n",
              "      <td>311.25</td>\n",
              "      <td>Tata-Motors</td>\n",
              "    </tr>\n",
              "    <tr>\n",
              "      <th>4094</th>\n",
              "      <td>23-04-2024</td>\n",
              "      <td>986.75</td>\n",
              "      <td>Tata-Motors</td>\n",
              "    </tr>\n",
              "  </tbody>\n",
              "</table>\n",
              "</div>\n",
              "    <div class=\"colab-df-buttons\">\n",
              "\n",
              "  <div class=\"colab-df-container\">\n",
              "    <button class=\"colab-df-convert\" onclick=\"convertToInteractive('df-fcb00da3-8938-4878-8de3-1437522f7fe9')\"\n",
              "            title=\"Convert this dataframe to an interactive table.\"\n",
              "            style=\"display:none;\">\n",
              "\n",
              "  <svg xmlns=\"http://www.w3.org/2000/svg\" height=\"24px\" viewBox=\"0 -960 960 960\">\n",
              "    <path d=\"M120-120v-720h720v720H120Zm60-500h600v-160H180v160Zm220 220h160v-160H400v160Zm0 220h160v-160H400v160ZM180-400h160v-160H180v160Zm440 0h160v-160H620v160ZM180-180h160v-160H180v160Zm440 0h160v-160H620v160Z\"/>\n",
              "  </svg>\n",
              "    </button>\n",
              "\n",
              "  <style>\n",
              "    .colab-df-container {\n",
              "      display:flex;\n",
              "      gap: 12px;\n",
              "    }\n",
              "\n",
              "    .colab-df-convert {\n",
              "      background-color: #E8F0FE;\n",
              "      border: none;\n",
              "      border-radius: 50%;\n",
              "      cursor: pointer;\n",
              "      display: none;\n",
              "      fill: #1967D2;\n",
              "      height: 32px;\n",
              "      padding: 0 0 0 0;\n",
              "      width: 32px;\n",
              "    }\n",
              "\n",
              "    .colab-df-convert:hover {\n",
              "      background-color: #E2EBFA;\n",
              "      box-shadow: 0px 1px 2px rgba(60, 64, 67, 0.3), 0px 1px 3px 1px rgba(60, 64, 67, 0.15);\n",
              "      fill: #174EA6;\n",
              "    }\n",
              "\n",
              "    .colab-df-buttons div {\n",
              "      margin-bottom: 4px;\n",
              "    }\n",
              "\n",
              "    [theme=dark] .colab-df-convert {\n",
              "      background-color: #3B4455;\n",
              "      fill: #D2E3FC;\n",
              "    }\n",
              "\n",
              "    [theme=dark] .colab-df-convert:hover {\n",
              "      background-color: #434B5C;\n",
              "      box-shadow: 0px 1px 3px 1px rgba(0, 0, 0, 0.15);\n",
              "      filter: drop-shadow(0px 1px 2px rgba(0, 0, 0, 0.3));\n",
              "      fill: #FFFFFF;\n",
              "    }\n",
              "  </style>\n",
              "\n",
              "    <script>\n",
              "      const buttonEl =\n",
              "        document.querySelector('#df-fcb00da3-8938-4878-8de3-1437522f7fe9 button.colab-df-convert');\n",
              "      buttonEl.style.display =\n",
              "        google.colab.kernel.accessAllowed ? 'block' : 'none';\n",
              "\n",
              "      async function convertToInteractive(key) {\n",
              "        const element = document.querySelector('#df-fcb00da3-8938-4878-8de3-1437522f7fe9');\n",
              "        const dataTable =\n",
              "          await google.colab.kernel.invokeFunction('convertToInteractive',\n",
              "                                                    [key], {});\n",
              "        if (!dataTable) return;\n",
              "\n",
              "        const docLinkHtml = 'Like what you see? Visit the ' +\n",
              "          '<a target=\"_blank\" href=https://colab.research.google.com/notebooks/data_table.ipynb>data table notebook</a>'\n",
              "          + ' to learn more about interactive tables.';\n",
              "        element.innerHTML = '';\n",
              "        dataTable['output_type'] = 'display_data';\n",
              "        await google.colab.output.renderOutput(dataTable, element);\n",
              "        const docLink = document.createElement('div');\n",
              "        docLink.innerHTML = docLinkHtml;\n",
              "        element.appendChild(docLink);\n",
              "      }\n",
              "    </script>\n",
              "  </div>\n",
              "\n",
              "\n",
              "<div id=\"df-526d00d9-0bac-4502-b039-a058fdd53e2f\">\n",
              "  <button class=\"colab-df-quickchart\" onclick=\"quickchart('df-526d00d9-0bac-4502-b039-a058fdd53e2f')\"\n",
              "            title=\"Suggest charts\"\n",
              "            style=\"display:none;\">\n",
              "\n",
              "<svg xmlns=\"http://www.w3.org/2000/svg\" height=\"24px\"viewBox=\"0 0 24 24\"\n",
              "     width=\"24px\">\n",
              "    <g>\n",
              "        <path d=\"M19 3H5c-1.1 0-2 .9-2 2v14c0 1.1.9 2 2 2h14c1.1 0 2-.9 2-2V5c0-1.1-.9-2-2-2zM9 17H7v-7h2v7zm4 0h-2V7h2v10zm4 0h-2v-4h2v4z\"/>\n",
              "    </g>\n",
              "</svg>\n",
              "  </button>\n",
              "\n",
              "<style>\n",
              "  .colab-df-quickchart {\n",
              "      --bg-color: #E8F0FE;\n",
              "      --fill-color: #1967D2;\n",
              "      --hover-bg-color: #E2EBFA;\n",
              "      --hover-fill-color: #174EA6;\n",
              "      --disabled-fill-color: #AAA;\n",
              "      --disabled-bg-color: #DDD;\n",
              "  }\n",
              "\n",
              "  [theme=dark] .colab-df-quickchart {\n",
              "      --bg-color: #3B4455;\n",
              "      --fill-color: #D2E3FC;\n",
              "      --hover-bg-color: #434B5C;\n",
              "      --hover-fill-color: #FFFFFF;\n",
              "      --disabled-bg-color: #3B4455;\n",
              "      --disabled-fill-color: #666;\n",
              "  }\n",
              "\n",
              "  .colab-df-quickchart {\n",
              "    background-color: var(--bg-color);\n",
              "    border: none;\n",
              "    border-radius: 50%;\n",
              "    cursor: pointer;\n",
              "    display: none;\n",
              "    fill: var(--fill-color);\n",
              "    height: 32px;\n",
              "    padding: 0;\n",
              "    width: 32px;\n",
              "  }\n",
              "\n",
              "  .colab-df-quickchart:hover {\n",
              "    background-color: var(--hover-bg-color);\n",
              "    box-shadow: 0 1px 2px rgba(60, 64, 67, 0.3), 0 1px 3px 1px rgba(60, 64, 67, 0.15);\n",
              "    fill: var(--button-hover-fill-color);\n",
              "  }\n",
              "\n",
              "  .colab-df-quickchart-complete:disabled,\n",
              "  .colab-df-quickchart-complete:disabled:hover {\n",
              "    background-color: var(--disabled-bg-color);\n",
              "    fill: var(--disabled-fill-color);\n",
              "    box-shadow: none;\n",
              "  }\n",
              "\n",
              "  .colab-df-spinner {\n",
              "    border: 2px solid var(--fill-color);\n",
              "    border-color: transparent;\n",
              "    border-bottom-color: var(--fill-color);\n",
              "    animation:\n",
              "      spin 1s steps(1) infinite;\n",
              "  }\n",
              "\n",
              "  @keyframes spin {\n",
              "    0% {\n",
              "      border-color: transparent;\n",
              "      border-bottom-color: var(--fill-color);\n",
              "      border-left-color: var(--fill-color);\n",
              "    }\n",
              "    20% {\n",
              "      border-color: transparent;\n",
              "      border-left-color: var(--fill-color);\n",
              "      border-top-color: var(--fill-color);\n",
              "    }\n",
              "    30% {\n",
              "      border-color: transparent;\n",
              "      border-left-color: var(--fill-color);\n",
              "      border-top-color: var(--fill-color);\n",
              "      border-right-color: var(--fill-color);\n",
              "    }\n",
              "    40% {\n",
              "      border-color: transparent;\n",
              "      border-right-color: var(--fill-color);\n",
              "      border-top-color: var(--fill-color);\n",
              "    }\n",
              "    60% {\n",
              "      border-color: transparent;\n",
              "      border-right-color: var(--fill-color);\n",
              "    }\n",
              "    80% {\n",
              "      border-color: transparent;\n",
              "      border-right-color: var(--fill-color);\n",
              "      border-bottom-color: var(--fill-color);\n",
              "    }\n",
              "    90% {\n",
              "      border-color: transparent;\n",
              "      border-bottom-color: var(--fill-color);\n",
              "    }\n",
              "  }\n",
              "</style>\n",
              "\n",
              "  <script>\n",
              "    async function quickchart(key) {\n",
              "      const quickchartButtonEl =\n",
              "        document.querySelector('#' + key + ' button');\n",
              "      quickchartButtonEl.disabled = true;  // To prevent multiple clicks.\n",
              "      quickchartButtonEl.classList.add('colab-df-spinner');\n",
              "      try {\n",
              "        const charts = await google.colab.kernel.invokeFunction(\n",
              "            'suggestCharts', [key], {});\n",
              "      } catch (error) {\n",
              "        console.error('Error during call to suggestCharts:', error);\n",
              "      }\n",
              "      quickchartButtonEl.classList.remove('colab-df-spinner');\n",
              "      quickchartButtonEl.classList.add('colab-df-quickchart-complete');\n",
              "    }\n",
              "    (() => {\n",
              "      let quickchartButtonEl =\n",
              "        document.querySelector('#df-526d00d9-0bac-4502-b039-a058fdd53e2f button');\n",
              "      quickchartButtonEl.style.display =\n",
              "        google.colab.kernel.accessAllowed ? 'block' : 'none';\n",
              "    })();\n",
              "  </script>\n",
              "</div>\n",
              "\n",
              "    </div>\n",
              "  </div>\n"
            ],
            "application/vnd.google.colaboratory.intrinsic+json": {
              "type": "dataframe",
              "summary": "{\n  \"name\": \"df\",\n  \"rows\": 10,\n  \"fields\": [\n    {\n      \"column\": \"DATE\",\n      \"properties\": {\n        \"dtype\": \"string\",\n        \"num_unique_values\": 10,\n        \"samples\": [\n          \"16-07-2021\",\n          \"17-02-2023\",\n          \"20-04-2022\"\n        ],\n        \"semantic_type\": \"\",\n        \"description\": \"\"\n      }\n    },\n    {\n      \"column\": \"Close\",\n      \"properties\": {\n        \"dtype\": \"string\",\n        \"num_unique_values\": 10,\n        \"samples\": [\n          \"311.25\",\n          \"1583.8\",\n          \"440.55\"\n        ],\n        \"semantic_type\": \"\",\n        \"description\": \"\"\n      }\n    },\n    {\n      \"column\": \"Company\",\n      \"properties\": {\n        \"dtype\": \"category\",\n        \"num_unique_values\": 3,\n        \"samples\": [\n          \"Tata-Motors\",\n          \"Infosys\",\n          \"Bajaj-Finance\"\n        ],\n        \"semantic_type\": \"\",\n        \"description\": \"\"\n      }\n    }\n  ]\n}"
            }
          },
          "metadata": {},
          "execution_count": 6
        }
      ]
    },
    {
      "cell_type": "markdown",
      "source": [
        "#####The date column have mix of date-month-year and year-month-date formats. we have to make it in consistent format which was detected with help of checking many samples from the data."
      ],
      "metadata": {
        "id": "3F7FvGK6GLop"
      }
    },
    {
      "cell_type": "code",
      "source": [
        "import pandas as pd\n",
        "\n",
        "def change_date_format(date_str):\n",
        "    try:\n",
        "        # Attempt to parse the date string as 'year-month-date'\n",
        "        datetime_obj = pd.to_datetime(date_str, format='%Y-%m-%d')\n",
        "        # If successful, reformat to 'date-month-year'\n",
        "        return datetime_obj.strftime('%d-%m-%Y')\n",
        "    except ValueError:\n",
        "        # If parsing as 'year-month-date' fails, assume it's already in 'date-month-year' format\n",
        "        return date_str\n",
        "\n",
        "df['DATE'] = df['DATE'].apply(change_date_format)"
      ],
      "metadata": {
        "id": "K6nApXtlJF6S"
      },
      "execution_count": null,
      "outputs": []
    },
    {
      "cell_type": "markdown",
      "source": [
        "In this function dectecting the date (year-month-date) format and coverting into date-month-year format. at the end in the date column the function is applied."
      ],
      "metadata": {
        "id": "GKu3B_ehpQcM"
      }
    },
    {
      "cell_type": "code",
      "source": [
        "## testing the above code\n",
        "df[\"DATE\"].sample(10)"
      ],
      "metadata": {
        "colab": {
          "base_uri": "https://localhost:8080/",
          "height": 397
        },
        "collapsed": true,
        "id": "pbJkjiPuJxXC",
        "outputId": "c503d594-da26-4333-ad7a-8464c090286a"
      },
      "execution_count": null,
      "outputs": [
        {
          "output_type": "execute_result",
          "data": {
            "text/plain": [
              "4504    25-08-2022\n",
              "3420    05-01-2023\n",
              "2671    12-01-2022\n",
              "2338    19-05-2023\n",
              "2001    25-09-2024\n",
              "4455    07-11-2022\n",
              "2072    13-06-2024\n",
              "3135    29-02-2024\n",
              "4710    27-10-2021\n",
              "2606    20-04-2022\n",
              "Name: DATE, dtype: object"
            ],
            "text/html": [
              "<div>\n",
              "<style scoped>\n",
              "    .dataframe tbody tr th:only-of-type {\n",
              "        vertical-align: middle;\n",
              "    }\n",
              "\n",
              "    .dataframe tbody tr th {\n",
              "        vertical-align: top;\n",
              "    }\n",
              "\n",
              "    .dataframe thead th {\n",
              "        text-align: right;\n",
              "    }\n",
              "</style>\n",
              "<table border=\"1\" class=\"dataframe\">\n",
              "  <thead>\n",
              "    <tr style=\"text-align: right;\">\n",
              "      <th></th>\n",
              "      <th>DATE</th>\n",
              "    </tr>\n",
              "  </thead>\n",
              "  <tbody>\n",
              "    <tr>\n",
              "      <th>4504</th>\n",
              "      <td>25-08-2022</td>\n",
              "    </tr>\n",
              "    <tr>\n",
              "      <th>3420</th>\n",
              "      <td>05-01-2023</td>\n",
              "    </tr>\n",
              "    <tr>\n",
              "      <th>2671</th>\n",
              "      <td>12-01-2022</td>\n",
              "    </tr>\n",
              "    <tr>\n",
              "      <th>2338</th>\n",
              "      <td>19-05-2023</td>\n",
              "    </tr>\n",
              "    <tr>\n",
              "      <th>2001</th>\n",
              "      <td>25-09-2024</td>\n",
              "    </tr>\n",
              "    <tr>\n",
              "      <th>4455</th>\n",
              "      <td>07-11-2022</td>\n",
              "    </tr>\n",
              "    <tr>\n",
              "      <th>2072</th>\n",
              "      <td>13-06-2024</td>\n",
              "    </tr>\n",
              "    <tr>\n",
              "      <th>3135</th>\n",
              "      <td>29-02-2024</td>\n",
              "    </tr>\n",
              "    <tr>\n",
              "      <th>4710</th>\n",
              "      <td>27-10-2021</td>\n",
              "    </tr>\n",
              "    <tr>\n",
              "      <th>2606</th>\n",
              "      <td>20-04-2022</td>\n",
              "    </tr>\n",
              "  </tbody>\n",
              "</table>\n",
              "</div><br><label><b>dtype:</b> object</label>"
            ]
          },
          "metadata": {},
          "execution_count": 8
        }
      ]
    },
    {
      "cell_type": "code",
      "source": [
        "df[\"DATE\"]=pd.to_datetime(df[\"DATE\"])\n",
        "df.info()"
      ],
      "metadata": {
        "colab": {
          "base_uri": "https://localhost:8080/"
        },
        "collapsed": true,
        "id": "SYeXxT0DKUe_",
        "outputId": "187e08d2-4042-4415-c128-13d88a73e7ab"
      },
      "execution_count": null,
      "outputs": [
        {
          "output_type": "stream",
          "name": "stdout",
          "text": [
            "<class 'pandas.core.frame.DataFrame'>\n",
            "RangeIndex: 5215 entries, 0 to 5214\n",
            "Data columns (total 3 columns):\n",
            " #   Column   Non-Null Count  Dtype         \n",
            "---  ------   --------------  -----         \n",
            " 0   DATE     5215 non-null   datetime64[ns]\n",
            " 1   Close    5215 non-null   object        \n",
            " 2   Company  5215 non-null   object        \n",
            "dtypes: datetime64[ns](1), object(2)\n",
            "memory usage: 122.4+ KB\n"
          ]
        },
        {
          "output_type": "stream",
          "name": "stderr",
          "text": [
            "<ipython-input-9-299ed2bb6f33>:1: UserWarning: Parsing dates in %d-%m-%Y format when dayfirst=False (the default) was specified. Pass `dayfirst=True` or specify a format to silence this warning.\n",
            "  df[\"DATE\"]=pd.to_datetime(df[\"DATE\"])\n"
          ]
        }
      ]
    },
    {
      "cell_type": "markdown",
      "source": [
        "From the data only all the columns are in object data types so we need to convert to numeric for our analysis. to do that converting the float values then into integer."
      ],
      "metadata": {
        "id": "QkhvjD4tp8Qa"
      }
    },
    {
      "cell_type": "code",
      "source": [
        "## we need to make all the close price into integer so converting into float values\n",
        "df[\"Close\"] = pd.to_numeric(df[\"Close\"].str.replace(',', ''), errors='coerce').astype(\"float\")\n",
        "\n"
      ],
      "metadata": {
        "id": "W5vG5oTjLJlN"
      },
      "execution_count": null,
      "outputs": []
    },
    {
      "cell_type": "code",
      "source": [
        "df[\"Close\"]=df[\"Close\"].astype(\"int64\")\n",
        "df.info()"
      ],
      "metadata": {
        "colab": {
          "base_uri": "https://localhost:8080/"
        },
        "id": "vYGNiHNzMlnk",
        "outputId": "c5e4df5d-1f19-4795-8431-4348f6af1513"
      },
      "execution_count": null,
      "outputs": [
        {
          "output_type": "stream",
          "name": "stdout",
          "text": [
            "<class 'pandas.core.frame.DataFrame'>\n",
            "RangeIndex: 5215 entries, 0 to 5214\n",
            "Data columns (total 3 columns):\n",
            " #   Column   Non-Null Count  Dtype         \n",
            "---  ------   --------------  -----         \n",
            " 0   DATE     5215 non-null   datetime64[ns]\n",
            " 1   Close    5215 non-null   int64         \n",
            " 2   Company  5215 non-null   object        \n",
            "dtypes: datetime64[ns](1), int64(1), object(1)\n",
            "memory usage: 122.4+ KB\n"
          ]
        }
      ]
    },
    {
      "cell_type": "markdown",
      "source": [
        "For further analysis pivot the table where the index is Date column columns are the companies Sunpharma,Infosys,Tata-motor,Bajaj-finance, ABFRL, close price values will be in the row areas."
      ],
      "metadata": {
        "id": "Wg3Hs33iqU6U"
      }
    },
    {
      "cell_type": "code",
      "source": [
        "new_data=pd.pivot_table(df,index=\"DATE\",columns=\"Company\",values=\"Close\")\n",
        "#new_data.to_csv(\"pivot.csv\")"
      ],
      "metadata": {
        "id": "oU01se-rKY59"
      },
      "execution_count": null,
      "outputs": []
    },
    {
      "cell_type": "code",
      "source": [
        "new_data.head(3)"
      ],
      "metadata": {
        "colab": {
          "base_uri": "https://localhost:8080/",
          "height": 175
        },
        "id": "U9JcCBslKY7w",
        "outputId": "69beec49-a82e-485e-f07b-98dfa534a0e4"
      },
      "execution_count": null,
      "outputs": [
        {
          "output_type": "execute_result",
          "data": {
            "text/plain": [
              "Company     ABFRL  Bajaj-Finance  Infosys  Sunpharma  Tata-Motors\n",
              "DATE                                                             \n",
              "2020-10-20  144.0         3262.0   1137.0      486.0        129.0\n",
              "2020-10-21  150.0         3232.0   1148.0      489.0        130.0\n",
              "2020-10-22  153.0         3314.0   1129.0      485.0        133.0"
            ],
            "text/html": [
              "\n",
              "  <div id=\"df-81ff26cc-9064-4de9-a56c-76b566be8935\" class=\"colab-df-container\">\n",
              "    <div>\n",
              "<style scoped>\n",
              "    .dataframe tbody tr th:only-of-type {\n",
              "        vertical-align: middle;\n",
              "    }\n",
              "\n",
              "    .dataframe tbody tr th {\n",
              "        vertical-align: top;\n",
              "    }\n",
              "\n",
              "    .dataframe thead th {\n",
              "        text-align: right;\n",
              "    }\n",
              "</style>\n",
              "<table border=\"1\" class=\"dataframe\">\n",
              "  <thead>\n",
              "    <tr style=\"text-align: right;\">\n",
              "      <th>Company</th>\n",
              "      <th>ABFRL</th>\n",
              "      <th>Bajaj-Finance</th>\n",
              "      <th>Infosys</th>\n",
              "      <th>Sunpharma</th>\n",
              "      <th>Tata-Motors</th>\n",
              "    </tr>\n",
              "    <tr>\n",
              "      <th>DATE</th>\n",
              "      <th></th>\n",
              "      <th></th>\n",
              "      <th></th>\n",
              "      <th></th>\n",
              "      <th></th>\n",
              "    </tr>\n",
              "  </thead>\n",
              "  <tbody>\n",
              "    <tr>\n",
              "      <th>2020-10-20</th>\n",
              "      <td>144.0</td>\n",
              "      <td>3262.0</td>\n",
              "      <td>1137.0</td>\n",
              "      <td>486.0</td>\n",
              "      <td>129.0</td>\n",
              "    </tr>\n",
              "    <tr>\n",
              "      <th>2020-10-21</th>\n",
              "      <td>150.0</td>\n",
              "      <td>3232.0</td>\n",
              "      <td>1148.0</td>\n",
              "      <td>489.0</td>\n",
              "      <td>130.0</td>\n",
              "    </tr>\n",
              "    <tr>\n",
              "      <th>2020-10-22</th>\n",
              "      <td>153.0</td>\n",
              "      <td>3314.0</td>\n",
              "      <td>1129.0</td>\n",
              "      <td>485.0</td>\n",
              "      <td>133.0</td>\n",
              "    </tr>\n",
              "  </tbody>\n",
              "</table>\n",
              "</div>\n",
              "    <div class=\"colab-df-buttons\">\n",
              "\n",
              "  <div class=\"colab-df-container\">\n",
              "    <button class=\"colab-df-convert\" onclick=\"convertToInteractive('df-81ff26cc-9064-4de9-a56c-76b566be8935')\"\n",
              "            title=\"Convert this dataframe to an interactive table.\"\n",
              "            style=\"display:none;\">\n",
              "\n",
              "  <svg xmlns=\"http://www.w3.org/2000/svg\" height=\"24px\" viewBox=\"0 -960 960 960\">\n",
              "    <path d=\"M120-120v-720h720v720H120Zm60-500h600v-160H180v160Zm220 220h160v-160H400v160Zm0 220h160v-160H400v160ZM180-400h160v-160H180v160Zm440 0h160v-160H620v160ZM180-180h160v-160H180v160Zm440 0h160v-160H620v160Z\"/>\n",
              "  </svg>\n",
              "    </button>\n",
              "\n",
              "  <style>\n",
              "    .colab-df-container {\n",
              "      display:flex;\n",
              "      gap: 12px;\n",
              "    }\n",
              "\n",
              "    .colab-df-convert {\n",
              "      background-color: #E8F0FE;\n",
              "      border: none;\n",
              "      border-radius: 50%;\n",
              "      cursor: pointer;\n",
              "      display: none;\n",
              "      fill: #1967D2;\n",
              "      height: 32px;\n",
              "      padding: 0 0 0 0;\n",
              "      width: 32px;\n",
              "    }\n",
              "\n",
              "    .colab-df-convert:hover {\n",
              "      background-color: #E2EBFA;\n",
              "      box-shadow: 0px 1px 2px rgba(60, 64, 67, 0.3), 0px 1px 3px 1px rgba(60, 64, 67, 0.15);\n",
              "      fill: #174EA6;\n",
              "    }\n",
              "\n",
              "    .colab-df-buttons div {\n",
              "      margin-bottom: 4px;\n",
              "    }\n",
              "\n",
              "    [theme=dark] .colab-df-convert {\n",
              "      background-color: #3B4455;\n",
              "      fill: #D2E3FC;\n",
              "    }\n",
              "\n",
              "    [theme=dark] .colab-df-convert:hover {\n",
              "      background-color: #434B5C;\n",
              "      box-shadow: 0px 1px 3px 1px rgba(0, 0, 0, 0.15);\n",
              "      filter: drop-shadow(0px 1px 2px rgba(0, 0, 0, 0.3));\n",
              "      fill: #FFFFFF;\n",
              "    }\n",
              "  </style>\n",
              "\n",
              "    <script>\n",
              "      const buttonEl =\n",
              "        document.querySelector('#df-81ff26cc-9064-4de9-a56c-76b566be8935 button.colab-df-convert');\n",
              "      buttonEl.style.display =\n",
              "        google.colab.kernel.accessAllowed ? 'block' : 'none';\n",
              "\n",
              "      async function convertToInteractive(key) {\n",
              "        const element = document.querySelector('#df-81ff26cc-9064-4de9-a56c-76b566be8935');\n",
              "        const dataTable =\n",
              "          await google.colab.kernel.invokeFunction('convertToInteractive',\n",
              "                                                    [key], {});\n",
              "        if (!dataTable) return;\n",
              "\n",
              "        const docLinkHtml = 'Like what you see? Visit the ' +\n",
              "          '<a target=\"_blank\" href=https://colab.research.google.com/notebooks/data_table.ipynb>data table notebook</a>'\n",
              "          + ' to learn more about interactive tables.';\n",
              "        element.innerHTML = '';\n",
              "        dataTable['output_type'] = 'display_data';\n",
              "        await google.colab.output.renderOutput(dataTable, element);\n",
              "        const docLink = document.createElement('div');\n",
              "        docLink.innerHTML = docLinkHtml;\n",
              "        element.appendChild(docLink);\n",
              "      }\n",
              "    </script>\n",
              "  </div>\n",
              "\n",
              "\n",
              "<div id=\"df-52100164-8907-4b7e-ad44-e0ca81fccc3f\">\n",
              "  <button class=\"colab-df-quickchart\" onclick=\"quickchart('df-52100164-8907-4b7e-ad44-e0ca81fccc3f')\"\n",
              "            title=\"Suggest charts\"\n",
              "            style=\"display:none;\">\n",
              "\n",
              "<svg xmlns=\"http://www.w3.org/2000/svg\" height=\"24px\"viewBox=\"0 0 24 24\"\n",
              "     width=\"24px\">\n",
              "    <g>\n",
              "        <path d=\"M19 3H5c-1.1 0-2 .9-2 2v14c0 1.1.9 2 2 2h14c1.1 0 2-.9 2-2V5c0-1.1-.9-2-2-2zM9 17H7v-7h2v7zm4 0h-2V7h2v10zm4 0h-2v-4h2v4z\"/>\n",
              "    </g>\n",
              "</svg>\n",
              "  </button>\n",
              "\n",
              "<style>\n",
              "  .colab-df-quickchart {\n",
              "      --bg-color: #E8F0FE;\n",
              "      --fill-color: #1967D2;\n",
              "      --hover-bg-color: #E2EBFA;\n",
              "      --hover-fill-color: #174EA6;\n",
              "      --disabled-fill-color: #AAA;\n",
              "      --disabled-bg-color: #DDD;\n",
              "  }\n",
              "\n",
              "  [theme=dark] .colab-df-quickchart {\n",
              "      --bg-color: #3B4455;\n",
              "      --fill-color: #D2E3FC;\n",
              "      --hover-bg-color: #434B5C;\n",
              "      --hover-fill-color: #FFFFFF;\n",
              "      --disabled-bg-color: #3B4455;\n",
              "      --disabled-fill-color: #666;\n",
              "  }\n",
              "\n",
              "  .colab-df-quickchart {\n",
              "    background-color: var(--bg-color);\n",
              "    border: none;\n",
              "    border-radius: 50%;\n",
              "    cursor: pointer;\n",
              "    display: none;\n",
              "    fill: var(--fill-color);\n",
              "    height: 32px;\n",
              "    padding: 0;\n",
              "    width: 32px;\n",
              "  }\n",
              "\n",
              "  .colab-df-quickchart:hover {\n",
              "    background-color: var(--hover-bg-color);\n",
              "    box-shadow: 0 1px 2px rgba(60, 64, 67, 0.3), 0 1px 3px 1px rgba(60, 64, 67, 0.15);\n",
              "    fill: var(--button-hover-fill-color);\n",
              "  }\n",
              "\n",
              "  .colab-df-quickchart-complete:disabled,\n",
              "  .colab-df-quickchart-complete:disabled:hover {\n",
              "    background-color: var(--disabled-bg-color);\n",
              "    fill: var(--disabled-fill-color);\n",
              "    box-shadow: none;\n",
              "  }\n",
              "\n",
              "  .colab-df-spinner {\n",
              "    border: 2px solid var(--fill-color);\n",
              "    border-color: transparent;\n",
              "    border-bottom-color: var(--fill-color);\n",
              "    animation:\n",
              "      spin 1s steps(1) infinite;\n",
              "  }\n",
              "\n",
              "  @keyframes spin {\n",
              "    0% {\n",
              "      border-color: transparent;\n",
              "      border-bottom-color: var(--fill-color);\n",
              "      border-left-color: var(--fill-color);\n",
              "    }\n",
              "    20% {\n",
              "      border-color: transparent;\n",
              "      border-left-color: var(--fill-color);\n",
              "      border-top-color: var(--fill-color);\n",
              "    }\n",
              "    30% {\n",
              "      border-color: transparent;\n",
              "      border-left-color: var(--fill-color);\n",
              "      border-top-color: var(--fill-color);\n",
              "      border-right-color: var(--fill-color);\n",
              "    }\n",
              "    40% {\n",
              "      border-color: transparent;\n",
              "      border-right-color: var(--fill-color);\n",
              "      border-top-color: var(--fill-color);\n",
              "    }\n",
              "    60% {\n",
              "      border-color: transparent;\n",
              "      border-right-color: var(--fill-color);\n",
              "    }\n",
              "    80% {\n",
              "      border-color: transparent;\n",
              "      border-right-color: var(--fill-color);\n",
              "      border-bottom-color: var(--fill-color);\n",
              "    }\n",
              "    90% {\n",
              "      border-color: transparent;\n",
              "      border-bottom-color: var(--fill-color);\n",
              "    }\n",
              "  }\n",
              "</style>\n",
              "\n",
              "  <script>\n",
              "    async function quickchart(key) {\n",
              "      const quickchartButtonEl =\n",
              "        document.querySelector('#' + key + ' button');\n",
              "      quickchartButtonEl.disabled = true;  // To prevent multiple clicks.\n",
              "      quickchartButtonEl.classList.add('colab-df-spinner');\n",
              "      try {\n",
              "        const charts = await google.colab.kernel.invokeFunction(\n",
              "            'suggestCharts', [key], {});\n",
              "      } catch (error) {\n",
              "        console.error('Error during call to suggestCharts:', error);\n",
              "      }\n",
              "      quickchartButtonEl.classList.remove('colab-df-spinner');\n",
              "      quickchartButtonEl.classList.add('colab-df-quickchart-complete');\n",
              "    }\n",
              "    (() => {\n",
              "      let quickchartButtonEl =\n",
              "        document.querySelector('#df-52100164-8907-4b7e-ad44-e0ca81fccc3f button');\n",
              "      quickchartButtonEl.style.display =\n",
              "        google.colab.kernel.accessAllowed ? 'block' : 'none';\n",
              "    })();\n",
              "  </script>\n",
              "</div>\n",
              "\n",
              "    </div>\n",
              "  </div>\n"
            ],
            "application/vnd.google.colaboratory.intrinsic+json": {
              "type": "dataframe",
              "variable_name": "new_data",
              "summary": "{\n  \"name\": \"new_data\",\n  \"rows\": 993,\n  \"fields\": [\n    {\n      \"column\": \"DATE\",\n      \"properties\": {\n        \"dtype\": \"date\",\n        \"min\": \"2020-10-20 00:00:00\",\n        \"max\": \"2024-10-18 00:00:00\",\n        \"num_unique_values\": 993,\n        \"samples\": [\n          \"2024-07-03 00:00:00\",\n          \"2022-12-01 00:00:00\",\n          \"2023-01-31 00:00:00\"\n        ],\n        \"semantic_type\": \"\",\n        \"description\": \"\"\n      }\n    },\n    {\n      \"column\": \"ABFRL\",\n      \"properties\": {\n        \"dtype\": \"number\",\n        \"std\": 51.077788743004184,\n        \"min\": 144.0,\n        \"max\": 358.0,\n        \"num_unique_values\": 196,\n        \"samples\": [\n          234.0,\n          286.0,\n          160.0\n        ],\n        \"semantic_type\": \"\",\n        \"description\": \"\"\n      }\n    },\n    {\n      \"column\": \"Bajaj-Finance\",\n      \"properties\": {\n        \"dtype\": \"number\",\n        \"std\": 913.5849560203801,\n        \"min\": 3232.0,\n        \"max\": 8168.0,\n        \"num_unique_values\": 824,\n        \"samples\": [\n          7108.0,\n          6129.0,\n          4734.0\n        ],\n        \"semantic_type\": \"\",\n        \"description\": \"\"\n      }\n    },\n    {\n      \"column\": \"Infosys\",\n      \"properties\": {\n        \"dtype\": \"number\",\n        \"std\": 196.13328385227797,\n        \"min\": 1060.0,\n        \"max\": 1968.0,\n        \"num_unique_values\": 538,\n        \"samples\": [\n          1450.0,\n          1309.0,\n          1398.0\n        ],\n        \"semantic_type\": \"\",\n        \"description\": \"\"\n      }\n    },\n    {\n      \"column\": \"Sunpharma\",\n      \"properties\": {\n        \"dtype\": \"number\",\n        \"std\": 344.91014124360044,\n        \"min\": 456.0,\n        \"max\": 1948.0,\n        \"num_unique_values\": 595,\n        \"samples\": [\n          837.0,\n          899.0,\n          1510.0\n        ],\n        \"semantic_type\": \"\",\n        \"description\": \"\"\n      }\n    },\n    {\n      \"column\": \"Tata-Motors\",\n      \"properties\": {\n        \"dtype\": \"number\",\n        \"std\": 249.95118862898138,\n        \"min\": 129.0,\n        \"max\": 1161.0,\n        \"num_unique_values\": 479,\n        \"samples\": [\n          343.0,\n          674.0,\n          325.0\n        ],\n        \"semantic_type\": \"\",\n        \"description\": \"\"\n      }\n    }\n  ]\n}"
            }
          },
          "metadata": {},
          "execution_count": 13
        }
      ]
    },
    {
      "cell_type": "markdown",
      "source": [
        "Exploratory data analysis"
      ],
      "metadata": {
        "id": "FxpjCb_UlY-l"
      }
    },
    {
      "cell_type": "code",
      "source": [
        "new_data.isna().sum()\n"
      ],
      "metadata": {
        "colab": {
          "base_uri": "https://localhost:8080/",
          "height": 272
        },
        "id": "JzyqQ-I8lqm0",
        "outputId": "9ad4447f-3515-470b-deb0-83c78ba4605c"
      },
      "execution_count": null,
      "outputs": [
        {
          "output_type": "execute_result",
          "data": {
            "text/plain": [
              "Company\n",
              "ABFRL            0\n",
              "Bajaj-Finance    1\n",
              "Infosys          0\n",
              "Sunpharma        0\n",
              "Tata-Motors      0\n",
              "dtype: int64"
            ],
            "text/html": [
              "<div>\n",
              "<style scoped>\n",
              "    .dataframe tbody tr th:only-of-type {\n",
              "        vertical-align: middle;\n",
              "    }\n",
              "\n",
              "    .dataframe tbody tr th {\n",
              "        vertical-align: top;\n",
              "    }\n",
              "\n",
              "    .dataframe thead th {\n",
              "        text-align: right;\n",
              "    }\n",
              "</style>\n",
              "<table border=\"1\" class=\"dataframe\">\n",
              "  <thead>\n",
              "    <tr style=\"text-align: right;\">\n",
              "      <th></th>\n",
              "      <th>0</th>\n",
              "    </tr>\n",
              "    <tr>\n",
              "      <th>Company</th>\n",
              "      <th></th>\n",
              "    </tr>\n",
              "  </thead>\n",
              "  <tbody>\n",
              "    <tr>\n",
              "      <th>ABFRL</th>\n",
              "      <td>0</td>\n",
              "    </tr>\n",
              "    <tr>\n",
              "      <th>Bajaj-Finance</th>\n",
              "      <td>1</td>\n",
              "    </tr>\n",
              "    <tr>\n",
              "      <th>Infosys</th>\n",
              "      <td>0</td>\n",
              "    </tr>\n",
              "    <tr>\n",
              "      <th>Sunpharma</th>\n",
              "      <td>0</td>\n",
              "    </tr>\n",
              "    <tr>\n",
              "      <th>Tata-Motors</th>\n",
              "      <td>0</td>\n",
              "    </tr>\n",
              "  </tbody>\n",
              "</table>\n",
              "</div><br><label><b>dtype:</b> int64</label>"
            ]
          },
          "metadata": {},
          "execution_count": 14
        }
      ]
    },
    {
      "cell_type": "markdown",
      "source": [
        "There are 1 null values in the data set in the bajaj finance company. as there are only one value so deleting the value"
      ],
      "metadata": {
        "id": "1jsJR_XDmO6_"
      }
    },
    {
      "cell_type": "code",
      "source": [
        "new_data.dropna(inplace=True)"
      ],
      "metadata": {
        "id": "AP4sL2ycl_sj"
      },
      "execution_count": null,
      "outputs": []
    },
    {
      "cell_type": "code",
      "source": [
        "new_data.info()"
      ],
      "metadata": {
        "collapsed": true,
        "colab": {
          "base_uri": "https://localhost:8080/"
        },
        "id": "U-LGD4Oom58Y",
        "outputId": "3a9f7138-3c1a-4e32-b151-0ebd221fb1b0"
      },
      "execution_count": null,
      "outputs": [
        {
          "output_type": "stream",
          "name": "stdout",
          "text": [
            "<class 'pandas.core.frame.DataFrame'>\n",
            "DatetimeIndex: 992 entries, 2020-10-20 to 2024-10-18\n",
            "Data columns (total 5 columns):\n",
            " #   Column         Non-Null Count  Dtype  \n",
            "---  ------         --------------  -----  \n",
            " 0   ABFRL          992 non-null    float64\n",
            " 1   Bajaj-Finance  992 non-null    float64\n",
            " 2   Infosys        992 non-null    float64\n",
            " 3   Sunpharma      992 non-null    float64\n",
            " 4   Tata-Motors    992 non-null    float64\n",
            "dtypes: float64(5)\n",
            "memory usage: 46.5 KB\n"
          ]
        }
      ]
    },
    {
      "cell_type": "code",
      "source": [
        "new_data.describe()"
      ],
      "metadata": {
        "colab": {
          "base_uri": "https://localhost:8080/",
          "height": 300
        },
        "id": "XmFXeuGDKY_E",
        "outputId": "3a1feb6a-2e2a-4107-adaa-99b956a77b86"
      },
      "execution_count": null,
      "outputs": [
        {
          "output_type": "execute_result",
          "data": {
            "text/plain": [
              "Company       ABFRL  Bajaj-Finance      Infosys    Sunpharma  Tata-Motors\n",
              "count    992.000000     992.000000   992.000000   992.000000   992.000000\n",
              "mean     246.231855    6591.849798  1525.229839  1016.978831   538.655242\n",
              "std       51.024960     913.584956   195.836660   344.714405   249.769488\n",
              "min      144.000000    3232.000000  1060.000000   456.000000   129.000000\n",
              "25%      212.000000    5997.750000  1390.000000   785.750000   385.750000\n",
              "50%      236.000000    6836.000000  1502.500000   951.500000   456.000000\n",
              "75%      286.000000    7272.500000  1673.500000  1146.250000   642.250000\n",
              "max      358.000000    8168.000000  1968.000000  1948.000000  1161.000000"
            ],
            "text/html": [
              "\n",
              "  <div id=\"df-9a64e1ea-e2c6-4128-b5b1-ff79262f0813\" class=\"colab-df-container\">\n",
              "    <div>\n",
              "<style scoped>\n",
              "    .dataframe tbody tr th:only-of-type {\n",
              "        vertical-align: middle;\n",
              "    }\n",
              "\n",
              "    .dataframe tbody tr th {\n",
              "        vertical-align: top;\n",
              "    }\n",
              "\n",
              "    .dataframe thead th {\n",
              "        text-align: right;\n",
              "    }\n",
              "</style>\n",
              "<table border=\"1\" class=\"dataframe\">\n",
              "  <thead>\n",
              "    <tr style=\"text-align: right;\">\n",
              "      <th>Company</th>\n",
              "      <th>ABFRL</th>\n",
              "      <th>Bajaj-Finance</th>\n",
              "      <th>Infosys</th>\n",
              "      <th>Sunpharma</th>\n",
              "      <th>Tata-Motors</th>\n",
              "    </tr>\n",
              "  </thead>\n",
              "  <tbody>\n",
              "    <tr>\n",
              "      <th>count</th>\n",
              "      <td>992.000000</td>\n",
              "      <td>992.000000</td>\n",
              "      <td>992.000000</td>\n",
              "      <td>992.000000</td>\n",
              "      <td>992.000000</td>\n",
              "    </tr>\n",
              "    <tr>\n",
              "      <th>mean</th>\n",
              "      <td>246.231855</td>\n",
              "      <td>6591.849798</td>\n",
              "      <td>1525.229839</td>\n",
              "      <td>1016.978831</td>\n",
              "      <td>538.655242</td>\n",
              "    </tr>\n",
              "    <tr>\n",
              "      <th>std</th>\n",
              "      <td>51.024960</td>\n",
              "      <td>913.584956</td>\n",
              "      <td>195.836660</td>\n",
              "      <td>344.714405</td>\n",
              "      <td>249.769488</td>\n",
              "    </tr>\n",
              "    <tr>\n",
              "      <th>min</th>\n",
              "      <td>144.000000</td>\n",
              "      <td>3232.000000</td>\n",
              "      <td>1060.000000</td>\n",
              "      <td>456.000000</td>\n",
              "      <td>129.000000</td>\n",
              "    </tr>\n",
              "    <tr>\n",
              "      <th>25%</th>\n",
              "      <td>212.000000</td>\n",
              "      <td>5997.750000</td>\n",
              "      <td>1390.000000</td>\n",
              "      <td>785.750000</td>\n",
              "      <td>385.750000</td>\n",
              "    </tr>\n",
              "    <tr>\n",
              "      <th>50%</th>\n",
              "      <td>236.000000</td>\n",
              "      <td>6836.000000</td>\n",
              "      <td>1502.500000</td>\n",
              "      <td>951.500000</td>\n",
              "      <td>456.000000</td>\n",
              "    </tr>\n",
              "    <tr>\n",
              "      <th>75%</th>\n",
              "      <td>286.000000</td>\n",
              "      <td>7272.500000</td>\n",
              "      <td>1673.500000</td>\n",
              "      <td>1146.250000</td>\n",
              "      <td>642.250000</td>\n",
              "    </tr>\n",
              "    <tr>\n",
              "      <th>max</th>\n",
              "      <td>358.000000</td>\n",
              "      <td>8168.000000</td>\n",
              "      <td>1968.000000</td>\n",
              "      <td>1948.000000</td>\n",
              "      <td>1161.000000</td>\n",
              "    </tr>\n",
              "  </tbody>\n",
              "</table>\n",
              "</div>\n",
              "    <div class=\"colab-df-buttons\">\n",
              "\n",
              "  <div class=\"colab-df-container\">\n",
              "    <button class=\"colab-df-convert\" onclick=\"convertToInteractive('df-9a64e1ea-e2c6-4128-b5b1-ff79262f0813')\"\n",
              "            title=\"Convert this dataframe to an interactive table.\"\n",
              "            style=\"display:none;\">\n",
              "\n",
              "  <svg xmlns=\"http://www.w3.org/2000/svg\" height=\"24px\" viewBox=\"0 -960 960 960\">\n",
              "    <path d=\"M120-120v-720h720v720H120Zm60-500h600v-160H180v160Zm220 220h160v-160H400v160Zm0 220h160v-160H400v160ZM180-400h160v-160H180v160Zm440 0h160v-160H620v160ZM180-180h160v-160H180v160Zm440 0h160v-160H620v160Z\"/>\n",
              "  </svg>\n",
              "    </button>\n",
              "\n",
              "  <style>\n",
              "    .colab-df-container {\n",
              "      display:flex;\n",
              "      gap: 12px;\n",
              "    }\n",
              "\n",
              "    .colab-df-convert {\n",
              "      background-color: #E8F0FE;\n",
              "      border: none;\n",
              "      border-radius: 50%;\n",
              "      cursor: pointer;\n",
              "      display: none;\n",
              "      fill: #1967D2;\n",
              "      height: 32px;\n",
              "      padding: 0 0 0 0;\n",
              "      width: 32px;\n",
              "    }\n",
              "\n",
              "    .colab-df-convert:hover {\n",
              "      background-color: #E2EBFA;\n",
              "      box-shadow: 0px 1px 2px rgba(60, 64, 67, 0.3), 0px 1px 3px 1px rgba(60, 64, 67, 0.15);\n",
              "      fill: #174EA6;\n",
              "    }\n",
              "\n",
              "    .colab-df-buttons div {\n",
              "      margin-bottom: 4px;\n",
              "    }\n",
              "\n",
              "    [theme=dark] .colab-df-convert {\n",
              "      background-color: #3B4455;\n",
              "      fill: #D2E3FC;\n",
              "    }\n",
              "\n",
              "    [theme=dark] .colab-df-convert:hover {\n",
              "      background-color: #434B5C;\n",
              "      box-shadow: 0px 1px 3px 1px rgba(0, 0, 0, 0.15);\n",
              "      filter: drop-shadow(0px 1px 2px rgba(0, 0, 0, 0.3));\n",
              "      fill: #FFFFFF;\n",
              "    }\n",
              "  </style>\n",
              "\n",
              "    <script>\n",
              "      const buttonEl =\n",
              "        document.querySelector('#df-9a64e1ea-e2c6-4128-b5b1-ff79262f0813 button.colab-df-convert');\n",
              "      buttonEl.style.display =\n",
              "        google.colab.kernel.accessAllowed ? 'block' : 'none';\n",
              "\n",
              "      async function convertToInteractive(key) {\n",
              "        const element = document.querySelector('#df-9a64e1ea-e2c6-4128-b5b1-ff79262f0813');\n",
              "        const dataTable =\n",
              "          await google.colab.kernel.invokeFunction('convertToInteractive',\n",
              "                                                    [key], {});\n",
              "        if (!dataTable) return;\n",
              "\n",
              "        const docLinkHtml = 'Like what you see? Visit the ' +\n",
              "          '<a target=\"_blank\" href=https://colab.research.google.com/notebooks/data_table.ipynb>data table notebook</a>'\n",
              "          + ' to learn more about interactive tables.';\n",
              "        element.innerHTML = '';\n",
              "        dataTable['output_type'] = 'display_data';\n",
              "        await google.colab.output.renderOutput(dataTable, element);\n",
              "        const docLink = document.createElement('div');\n",
              "        docLink.innerHTML = docLinkHtml;\n",
              "        element.appendChild(docLink);\n",
              "      }\n",
              "    </script>\n",
              "  </div>\n",
              "\n",
              "\n",
              "<div id=\"df-26000578-904f-4dc8-9825-e46f4b24e165\">\n",
              "  <button class=\"colab-df-quickchart\" onclick=\"quickchart('df-26000578-904f-4dc8-9825-e46f4b24e165')\"\n",
              "            title=\"Suggest charts\"\n",
              "            style=\"display:none;\">\n",
              "\n",
              "<svg xmlns=\"http://www.w3.org/2000/svg\" height=\"24px\"viewBox=\"0 0 24 24\"\n",
              "     width=\"24px\">\n",
              "    <g>\n",
              "        <path d=\"M19 3H5c-1.1 0-2 .9-2 2v14c0 1.1.9 2 2 2h14c1.1 0 2-.9 2-2V5c0-1.1-.9-2-2-2zM9 17H7v-7h2v7zm4 0h-2V7h2v10zm4 0h-2v-4h2v4z\"/>\n",
              "    </g>\n",
              "</svg>\n",
              "  </button>\n",
              "\n",
              "<style>\n",
              "  .colab-df-quickchart {\n",
              "      --bg-color: #E8F0FE;\n",
              "      --fill-color: #1967D2;\n",
              "      --hover-bg-color: #E2EBFA;\n",
              "      --hover-fill-color: #174EA6;\n",
              "      --disabled-fill-color: #AAA;\n",
              "      --disabled-bg-color: #DDD;\n",
              "  }\n",
              "\n",
              "  [theme=dark] .colab-df-quickchart {\n",
              "      --bg-color: #3B4455;\n",
              "      --fill-color: #D2E3FC;\n",
              "      --hover-bg-color: #434B5C;\n",
              "      --hover-fill-color: #FFFFFF;\n",
              "      --disabled-bg-color: #3B4455;\n",
              "      --disabled-fill-color: #666;\n",
              "  }\n",
              "\n",
              "  .colab-df-quickchart {\n",
              "    background-color: var(--bg-color);\n",
              "    border: none;\n",
              "    border-radius: 50%;\n",
              "    cursor: pointer;\n",
              "    display: none;\n",
              "    fill: var(--fill-color);\n",
              "    height: 32px;\n",
              "    padding: 0;\n",
              "    width: 32px;\n",
              "  }\n",
              "\n",
              "  .colab-df-quickchart:hover {\n",
              "    background-color: var(--hover-bg-color);\n",
              "    box-shadow: 0 1px 2px rgba(60, 64, 67, 0.3), 0 1px 3px 1px rgba(60, 64, 67, 0.15);\n",
              "    fill: var(--button-hover-fill-color);\n",
              "  }\n",
              "\n",
              "  .colab-df-quickchart-complete:disabled,\n",
              "  .colab-df-quickchart-complete:disabled:hover {\n",
              "    background-color: var(--disabled-bg-color);\n",
              "    fill: var(--disabled-fill-color);\n",
              "    box-shadow: none;\n",
              "  }\n",
              "\n",
              "  .colab-df-spinner {\n",
              "    border: 2px solid var(--fill-color);\n",
              "    border-color: transparent;\n",
              "    border-bottom-color: var(--fill-color);\n",
              "    animation:\n",
              "      spin 1s steps(1) infinite;\n",
              "  }\n",
              "\n",
              "  @keyframes spin {\n",
              "    0% {\n",
              "      border-color: transparent;\n",
              "      border-bottom-color: var(--fill-color);\n",
              "      border-left-color: var(--fill-color);\n",
              "    }\n",
              "    20% {\n",
              "      border-color: transparent;\n",
              "      border-left-color: var(--fill-color);\n",
              "      border-top-color: var(--fill-color);\n",
              "    }\n",
              "    30% {\n",
              "      border-color: transparent;\n",
              "      border-left-color: var(--fill-color);\n",
              "      border-top-color: var(--fill-color);\n",
              "      border-right-color: var(--fill-color);\n",
              "    }\n",
              "    40% {\n",
              "      border-color: transparent;\n",
              "      border-right-color: var(--fill-color);\n",
              "      border-top-color: var(--fill-color);\n",
              "    }\n",
              "    60% {\n",
              "      border-color: transparent;\n",
              "      border-right-color: var(--fill-color);\n",
              "    }\n",
              "    80% {\n",
              "      border-color: transparent;\n",
              "      border-right-color: var(--fill-color);\n",
              "      border-bottom-color: var(--fill-color);\n",
              "    }\n",
              "    90% {\n",
              "      border-color: transparent;\n",
              "      border-bottom-color: var(--fill-color);\n",
              "    }\n",
              "  }\n",
              "</style>\n",
              "\n",
              "  <script>\n",
              "    async function quickchart(key) {\n",
              "      const quickchartButtonEl =\n",
              "        document.querySelector('#' + key + ' button');\n",
              "      quickchartButtonEl.disabled = true;  // To prevent multiple clicks.\n",
              "      quickchartButtonEl.classList.add('colab-df-spinner');\n",
              "      try {\n",
              "        const charts = await google.colab.kernel.invokeFunction(\n",
              "            'suggestCharts', [key], {});\n",
              "      } catch (error) {\n",
              "        console.error('Error during call to suggestCharts:', error);\n",
              "      }\n",
              "      quickchartButtonEl.classList.remove('colab-df-spinner');\n",
              "      quickchartButtonEl.classList.add('colab-df-quickchart-complete');\n",
              "    }\n",
              "    (() => {\n",
              "      let quickchartButtonEl =\n",
              "        document.querySelector('#df-26000578-904f-4dc8-9825-e46f4b24e165 button');\n",
              "      quickchartButtonEl.style.display =\n",
              "        google.colab.kernel.accessAllowed ? 'block' : 'none';\n",
              "    })();\n",
              "  </script>\n",
              "</div>\n",
              "\n",
              "    </div>\n",
              "  </div>\n"
            ],
            "application/vnd.google.colaboratory.intrinsic+json": {
              "type": "dataframe",
              "summary": "{\n  \"name\": \"new_data\",\n  \"rows\": 8,\n  \"fields\": [\n    {\n      \"column\": \"ABFRL\",\n      \"properties\": {\n        \"dtype\": \"number\",\n        \"std\": 288.22571140669817,\n        \"min\": 51.024960487212475,\n        \"max\": 992.0,\n        \"num_unique_values\": 8,\n        \"samples\": [\n          246.23185483870967,\n          236.0,\n          992.0\n        ],\n        \"semantic_type\": \"\",\n        \"description\": \"\"\n      }\n    },\n    {\n      \"column\": \"Bajaj-Finance\",\n      \"properties\": {\n        \"dtype\": \"number\",\n        \"std\": 2878.2321287209597,\n        \"min\": 913.5849560203801,\n        \"max\": 8168.0,\n        \"num_unique_values\": 8,\n        \"samples\": [\n          6591.849798387097,\n          6836.0,\n          992.0\n        ],\n        \"semantic_type\": \"\",\n        \"description\": \"\"\n      }\n    },\n    {\n      \"column\": \"Infosys\",\n      \"properties\": {\n        \"dtype\": \"number\",\n        \"std\": 541.9702260155098,\n        \"min\": 195.83666044678344,\n        \"max\": 1968.0,\n        \"num_unique_values\": 8,\n        \"samples\": [\n          1525.2298387096773,\n          1502.5,\n          992.0\n        ],\n        \"semantic_type\": \"\",\n        \"description\": \"\"\n      }\n    },\n    {\n      \"column\": \"Sunpharma\",\n      \"properties\": {\n        \"dtype\": \"number\",\n        \"std\": 489.59795173745465,\n        \"min\": 344.7144046049173,\n        \"max\": 1948.0,\n        \"num_unique_values\": 8,\n        \"samples\": [\n          1016.9788306451613,\n          951.5,\n          992.0\n        ],\n        \"semantic_type\": \"\",\n        \"description\": \"\"\n      }\n    },\n    {\n      \"column\": \"Tata-Motors\",\n      \"properties\": {\n        \"dtype\": \"number\",\n        \"std\": 354.0654326230881,\n        \"min\": 129.0,\n        \"max\": 1161.0,\n        \"num_unique_values\": 8,\n        \"samples\": [\n          538.6552419354839,\n          456.0,\n          992.0\n        ],\n        \"semantic_type\": \"\",\n        \"description\": \"\"\n      }\n    }\n  ]\n}"
            }
          },
          "metadata": {},
          "execution_count": 17
        }
      ]
    },
    {
      "cell_type": "markdown",
      "source": [
        "There are total 992 row values in the data set after dropping one null value. If we look into the mean values of companies then we can see that Bajaj finance have highest avarage value and on other hand ABFRL retail company lowest avarage value.\n",
        "Out of all the companies ABFRL companuy is having the lowest range in all the five point summary values where as Bajaj-Finance is the highest."
      ],
      "metadata": {
        "id": "RWTMXBN_nO7X"
      }
    },
    {
      "cell_type": "code",
      "source": [
        "new_data.reset_index()\n",
        "## to make date column as one column"
      ],
      "metadata": {
        "colab": {
          "base_uri": "https://localhost:8080/",
          "height": 423
        },
        "id": "x0OG0rfem9H3",
        "outputId": "269775a3-8f5f-467b-86db-f0a58f744a3f"
      },
      "execution_count": null,
      "outputs": [
        {
          "output_type": "execute_result",
          "data": {
            "text/plain": [
              "Company       DATE  ABFRL  Bajaj-Finance  Infosys  Sunpharma  Tata-Motors\n",
              "0       2020-10-20  144.0         3262.0   1137.0      486.0        129.0\n",
              "1       2020-10-21  150.0         3232.0   1148.0      489.0        130.0\n",
              "2       2020-10-22  153.0         3314.0   1129.0      485.0        133.0\n",
              "3       2020-10-23  164.0         3316.0   1122.0      484.0        137.0\n",
              "4       2020-10-26  161.0         3293.0   1112.0      474.0        133.0\n",
              "..             ...    ...            ...      ...        ...          ...\n",
              "987     2024-10-14  346.0         7208.0   1958.0     1909.0        928.0\n",
              "988     2024-10-15  348.0         7016.0   1959.0     1897.0        917.0\n",
              "989     2024-10-16  343.0         6956.0   1920.0     1897.0        907.0\n",
              "990     2024-10-17  330.0         6899.0   1968.0     1890.0        891.0\n",
              "991     2024-10-18  334.0         6899.0   1879.0     1909.0        910.0\n",
              "\n",
              "[992 rows x 6 columns]"
            ],
            "text/html": [
              "\n",
              "  <div id=\"df-a80a6d6b-753f-44a6-b3a2-4e3ad97d397a\" class=\"colab-df-container\">\n",
              "    <div>\n",
              "<style scoped>\n",
              "    .dataframe tbody tr th:only-of-type {\n",
              "        vertical-align: middle;\n",
              "    }\n",
              "\n",
              "    .dataframe tbody tr th {\n",
              "        vertical-align: top;\n",
              "    }\n",
              "\n",
              "    .dataframe thead th {\n",
              "        text-align: right;\n",
              "    }\n",
              "</style>\n",
              "<table border=\"1\" class=\"dataframe\">\n",
              "  <thead>\n",
              "    <tr style=\"text-align: right;\">\n",
              "      <th>Company</th>\n",
              "      <th>DATE</th>\n",
              "      <th>ABFRL</th>\n",
              "      <th>Bajaj-Finance</th>\n",
              "      <th>Infosys</th>\n",
              "      <th>Sunpharma</th>\n",
              "      <th>Tata-Motors</th>\n",
              "    </tr>\n",
              "  </thead>\n",
              "  <tbody>\n",
              "    <tr>\n",
              "      <th>0</th>\n",
              "      <td>2020-10-20</td>\n",
              "      <td>144.0</td>\n",
              "      <td>3262.0</td>\n",
              "      <td>1137.0</td>\n",
              "      <td>486.0</td>\n",
              "      <td>129.0</td>\n",
              "    </tr>\n",
              "    <tr>\n",
              "      <th>1</th>\n",
              "      <td>2020-10-21</td>\n",
              "      <td>150.0</td>\n",
              "      <td>3232.0</td>\n",
              "      <td>1148.0</td>\n",
              "      <td>489.0</td>\n",
              "      <td>130.0</td>\n",
              "    </tr>\n",
              "    <tr>\n",
              "      <th>2</th>\n",
              "      <td>2020-10-22</td>\n",
              "      <td>153.0</td>\n",
              "      <td>3314.0</td>\n",
              "      <td>1129.0</td>\n",
              "      <td>485.0</td>\n",
              "      <td>133.0</td>\n",
              "    </tr>\n",
              "    <tr>\n",
              "      <th>3</th>\n",
              "      <td>2020-10-23</td>\n",
              "      <td>164.0</td>\n",
              "      <td>3316.0</td>\n",
              "      <td>1122.0</td>\n",
              "      <td>484.0</td>\n",
              "      <td>137.0</td>\n",
              "    </tr>\n",
              "    <tr>\n",
              "      <th>4</th>\n",
              "      <td>2020-10-26</td>\n",
              "      <td>161.0</td>\n",
              "      <td>3293.0</td>\n",
              "      <td>1112.0</td>\n",
              "      <td>474.0</td>\n",
              "      <td>133.0</td>\n",
              "    </tr>\n",
              "    <tr>\n",
              "      <th>...</th>\n",
              "      <td>...</td>\n",
              "      <td>...</td>\n",
              "      <td>...</td>\n",
              "      <td>...</td>\n",
              "      <td>...</td>\n",
              "      <td>...</td>\n",
              "    </tr>\n",
              "    <tr>\n",
              "      <th>987</th>\n",
              "      <td>2024-10-14</td>\n",
              "      <td>346.0</td>\n",
              "      <td>7208.0</td>\n",
              "      <td>1958.0</td>\n",
              "      <td>1909.0</td>\n",
              "      <td>928.0</td>\n",
              "    </tr>\n",
              "    <tr>\n",
              "      <th>988</th>\n",
              "      <td>2024-10-15</td>\n",
              "      <td>348.0</td>\n",
              "      <td>7016.0</td>\n",
              "      <td>1959.0</td>\n",
              "      <td>1897.0</td>\n",
              "      <td>917.0</td>\n",
              "    </tr>\n",
              "    <tr>\n",
              "      <th>989</th>\n",
              "      <td>2024-10-16</td>\n",
              "      <td>343.0</td>\n",
              "      <td>6956.0</td>\n",
              "      <td>1920.0</td>\n",
              "      <td>1897.0</td>\n",
              "      <td>907.0</td>\n",
              "    </tr>\n",
              "    <tr>\n",
              "      <th>990</th>\n",
              "      <td>2024-10-17</td>\n",
              "      <td>330.0</td>\n",
              "      <td>6899.0</td>\n",
              "      <td>1968.0</td>\n",
              "      <td>1890.0</td>\n",
              "      <td>891.0</td>\n",
              "    </tr>\n",
              "    <tr>\n",
              "      <th>991</th>\n",
              "      <td>2024-10-18</td>\n",
              "      <td>334.0</td>\n",
              "      <td>6899.0</td>\n",
              "      <td>1879.0</td>\n",
              "      <td>1909.0</td>\n",
              "      <td>910.0</td>\n",
              "    </tr>\n",
              "  </tbody>\n",
              "</table>\n",
              "<p>992 rows × 6 columns</p>\n",
              "</div>\n",
              "    <div class=\"colab-df-buttons\">\n",
              "\n",
              "  <div class=\"colab-df-container\">\n",
              "    <button class=\"colab-df-convert\" onclick=\"convertToInteractive('df-a80a6d6b-753f-44a6-b3a2-4e3ad97d397a')\"\n",
              "            title=\"Convert this dataframe to an interactive table.\"\n",
              "            style=\"display:none;\">\n",
              "\n",
              "  <svg xmlns=\"http://www.w3.org/2000/svg\" height=\"24px\" viewBox=\"0 -960 960 960\">\n",
              "    <path d=\"M120-120v-720h720v720H120Zm60-500h600v-160H180v160Zm220 220h160v-160H400v160Zm0 220h160v-160H400v160ZM180-400h160v-160H180v160Zm440 0h160v-160H620v160ZM180-180h160v-160H180v160Zm440 0h160v-160H620v160Z\"/>\n",
              "  </svg>\n",
              "    </button>\n",
              "\n",
              "  <style>\n",
              "    .colab-df-container {\n",
              "      display:flex;\n",
              "      gap: 12px;\n",
              "    }\n",
              "\n",
              "    .colab-df-convert {\n",
              "      background-color: #E8F0FE;\n",
              "      border: none;\n",
              "      border-radius: 50%;\n",
              "      cursor: pointer;\n",
              "      display: none;\n",
              "      fill: #1967D2;\n",
              "      height: 32px;\n",
              "      padding: 0 0 0 0;\n",
              "      width: 32px;\n",
              "    }\n",
              "\n",
              "    .colab-df-convert:hover {\n",
              "      background-color: #E2EBFA;\n",
              "      box-shadow: 0px 1px 2px rgba(60, 64, 67, 0.3), 0px 1px 3px 1px rgba(60, 64, 67, 0.15);\n",
              "      fill: #174EA6;\n",
              "    }\n",
              "\n",
              "    .colab-df-buttons div {\n",
              "      margin-bottom: 4px;\n",
              "    }\n",
              "\n",
              "    [theme=dark] .colab-df-convert {\n",
              "      background-color: #3B4455;\n",
              "      fill: #D2E3FC;\n",
              "    }\n",
              "\n",
              "    [theme=dark] .colab-df-convert:hover {\n",
              "      background-color: #434B5C;\n",
              "      box-shadow: 0px 1px 3px 1px rgba(0, 0, 0, 0.15);\n",
              "      filter: drop-shadow(0px 1px 2px rgba(0, 0, 0, 0.3));\n",
              "      fill: #FFFFFF;\n",
              "    }\n",
              "  </style>\n",
              "\n",
              "    <script>\n",
              "      const buttonEl =\n",
              "        document.querySelector('#df-a80a6d6b-753f-44a6-b3a2-4e3ad97d397a button.colab-df-convert');\n",
              "      buttonEl.style.display =\n",
              "        google.colab.kernel.accessAllowed ? 'block' : 'none';\n",
              "\n",
              "      async function convertToInteractive(key) {\n",
              "        const element = document.querySelector('#df-a80a6d6b-753f-44a6-b3a2-4e3ad97d397a');\n",
              "        const dataTable =\n",
              "          await google.colab.kernel.invokeFunction('convertToInteractive',\n",
              "                                                    [key], {});\n",
              "        if (!dataTable) return;\n",
              "\n",
              "        const docLinkHtml = 'Like what you see? Visit the ' +\n",
              "          '<a target=\"_blank\" href=https://colab.research.google.com/notebooks/data_table.ipynb>data table notebook</a>'\n",
              "          + ' to learn more about interactive tables.';\n",
              "        element.innerHTML = '';\n",
              "        dataTable['output_type'] = 'display_data';\n",
              "        await google.colab.output.renderOutput(dataTable, element);\n",
              "        const docLink = document.createElement('div');\n",
              "        docLink.innerHTML = docLinkHtml;\n",
              "        element.appendChild(docLink);\n",
              "      }\n",
              "    </script>\n",
              "  </div>\n",
              "\n",
              "\n",
              "<div id=\"df-2872a52f-e07a-4b08-b877-1ca66f803606\">\n",
              "  <button class=\"colab-df-quickchart\" onclick=\"quickchart('df-2872a52f-e07a-4b08-b877-1ca66f803606')\"\n",
              "            title=\"Suggest charts\"\n",
              "            style=\"display:none;\">\n",
              "\n",
              "<svg xmlns=\"http://www.w3.org/2000/svg\" height=\"24px\"viewBox=\"0 0 24 24\"\n",
              "     width=\"24px\">\n",
              "    <g>\n",
              "        <path d=\"M19 3H5c-1.1 0-2 .9-2 2v14c0 1.1.9 2 2 2h14c1.1 0 2-.9 2-2V5c0-1.1-.9-2-2-2zM9 17H7v-7h2v7zm4 0h-2V7h2v10zm4 0h-2v-4h2v4z\"/>\n",
              "    </g>\n",
              "</svg>\n",
              "  </button>\n",
              "\n",
              "<style>\n",
              "  .colab-df-quickchart {\n",
              "      --bg-color: #E8F0FE;\n",
              "      --fill-color: #1967D2;\n",
              "      --hover-bg-color: #E2EBFA;\n",
              "      --hover-fill-color: #174EA6;\n",
              "      --disabled-fill-color: #AAA;\n",
              "      --disabled-bg-color: #DDD;\n",
              "  }\n",
              "\n",
              "  [theme=dark] .colab-df-quickchart {\n",
              "      --bg-color: #3B4455;\n",
              "      --fill-color: #D2E3FC;\n",
              "      --hover-bg-color: #434B5C;\n",
              "      --hover-fill-color: #FFFFFF;\n",
              "      --disabled-bg-color: #3B4455;\n",
              "      --disabled-fill-color: #666;\n",
              "  }\n",
              "\n",
              "  .colab-df-quickchart {\n",
              "    background-color: var(--bg-color);\n",
              "    border: none;\n",
              "    border-radius: 50%;\n",
              "    cursor: pointer;\n",
              "    display: none;\n",
              "    fill: var(--fill-color);\n",
              "    height: 32px;\n",
              "    padding: 0;\n",
              "    width: 32px;\n",
              "  }\n",
              "\n",
              "  .colab-df-quickchart:hover {\n",
              "    background-color: var(--hover-bg-color);\n",
              "    box-shadow: 0 1px 2px rgba(60, 64, 67, 0.3), 0 1px 3px 1px rgba(60, 64, 67, 0.15);\n",
              "    fill: var(--button-hover-fill-color);\n",
              "  }\n",
              "\n",
              "  .colab-df-quickchart-complete:disabled,\n",
              "  .colab-df-quickchart-complete:disabled:hover {\n",
              "    background-color: var(--disabled-bg-color);\n",
              "    fill: var(--disabled-fill-color);\n",
              "    box-shadow: none;\n",
              "  }\n",
              "\n",
              "  .colab-df-spinner {\n",
              "    border: 2px solid var(--fill-color);\n",
              "    border-color: transparent;\n",
              "    border-bottom-color: var(--fill-color);\n",
              "    animation:\n",
              "      spin 1s steps(1) infinite;\n",
              "  }\n",
              "\n",
              "  @keyframes spin {\n",
              "    0% {\n",
              "      border-color: transparent;\n",
              "      border-bottom-color: var(--fill-color);\n",
              "      border-left-color: var(--fill-color);\n",
              "    }\n",
              "    20% {\n",
              "      border-color: transparent;\n",
              "      border-left-color: var(--fill-color);\n",
              "      border-top-color: var(--fill-color);\n",
              "    }\n",
              "    30% {\n",
              "      border-color: transparent;\n",
              "      border-left-color: var(--fill-color);\n",
              "      border-top-color: var(--fill-color);\n",
              "      border-right-color: var(--fill-color);\n",
              "    }\n",
              "    40% {\n",
              "      border-color: transparent;\n",
              "      border-right-color: var(--fill-color);\n",
              "      border-top-color: var(--fill-color);\n",
              "    }\n",
              "    60% {\n",
              "      border-color: transparent;\n",
              "      border-right-color: var(--fill-color);\n",
              "    }\n",
              "    80% {\n",
              "      border-color: transparent;\n",
              "      border-right-color: var(--fill-color);\n",
              "      border-bottom-color: var(--fill-color);\n",
              "    }\n",
              "    90% {\n",
              "      border-color: transparent;\n",
              "      border-bottom-color: var(--fill-color);\n",
              "    }\n",
              "  }\n",
              "</style>\n",
              "\n",
              "  <script>\n",
              "    async function quickchart(key) {\n",
              "      const quickchartButtonEl =\n",
              "        document.querySelector('#' + key + ' button');\n",
              "      quickchartButtonEl.disabled = true;  // To prevent multiple clicks.\n",
              "      quickchartButtonEl.classList.add('colab-df-spinner');\n",
              "      try {\n",
              "        const charts = await google.colab.kernel.invokeFunction(\n",
              "            'suggestCharts', [key], {});\n",
              "      } catch (error) {\n",
              "        console.error('Error during call to suggestCharts:', error);\n",
              "      }\n",
              "      quickchartButtonEl.classList.remove('colab-df-spinner');\n",
              "      quickchartButtonEl.classList.add('colab-df-quickchart-complete');\n",
              "    }\n",
              "    (() => {\n",
              "      let quickchartButtonEl =\n",
              "        document.querySelector('#df-2872a52f-e07a-4b08-b877-1ca66f803606 button');\n",
              "      quickchartButtonEl.style.display =\n",
              "        google.colab.kernel.accessAllowed ? 'block' : 'none';\n",
              "    })();\n",
              "  </script>\n",
              "</div>\n",
              "\n",
              "    </div>\n",
              "  </div>\n"
            ],
            "application/vnd.google.colaboratory.intrinsic+json": {
              "type": "dataframe",
              "summary": "{\n  \"name\": \"## to make date column as one column\",\n  \"rows\": 992,\n  \"fields\": [\n    {\n      \"column\": \"DATE\",\n      \"properties\": {\n        \"dtype\": \"date\",\n        \"min\": \"2020-10-20 00:00:00\",\n        \"max\": \"2024-10-18 00:00:00\",\n        \"num_unique_values\": 992,\n        \"samples\": [\n          \"2021-08-31 00:00:00\",\n          \"2022-02-18 00:00:00\",\n          \"2022-10-28 00:00:00\"\n        ],\n        \"semantic_type\": \"\",\n        \"description\": \"\"\n      }\n    },\n    {\n      \"column\": \"ABFRL\",\n      \"properties\": {\n        \"dtype\": \"number\",\n        \"std\": 51.024960487212475,\n        \"min\": 144.0,\n        \"max\": 358.0,\n        \"num_unique_values\": 196,\n        \"samples\": [\n          234.0,\n          286.0,\n          160.0\n        ],\n        \"semantic_type\": \"\",\n        \"description\": \"\"\n      }\n    },\n    {\n      \"column\": \"Bajaj-Finance\",\n      \"properties\": {\n        \"dtype\": \"number\",\n        \"std\": 913.5849560203801,\n        \"min\": 3232.0,\n        \"max\": 8168.0,\n        \"num_unique_values\": 824,\n        \"samples\": [\n          7108.0,\n          6129.0,\n          4734.0\n        ],\n        \"semantic_type\": \"\",\n        \"description\": \"\"\n      }\n    },\n    {\n      \"column\": \"Infosys\",\n      \"properties\": {\n        \"dtype\": \"number\",\n        \"std\": 195.83666044678344,\n        \"min\": 1060.0,\n        \"max\": 1968.0,\n        \"num_unique_values\": 537,\n        \"samples\": [\n          1758.0,\n          1290.0,\n          1398.0\n        ],\n        \"semantic_type\": \"\",\n        \"description\": \"\"\n      }\n    },\n    {\n      \"column\": \"Sunpharma\",\n      \"properties\": {\n        \"dtype\": \"number\",\n        \"std\": 344.7144046049173,\n        \"min\": 456.0,\n        \"max\": 1948.0,\n        \"num_unique_values\": 594,\n        \"samples\": [\n          575.0,\n          1008.0,\n          759.0\n        ],\n        \"semantic_type\": \"\",\n        \"description\": \"\"\n      }\n    },\n    {\n      \"column\": \"Tata-Motors\",\n      \"properties\": {\n        \"dtype\": \"number\",\n        \"std\": 249.7694882649906,\n        \"min\": 129.0,\n        \"max\": 1161.0,\n        \"num_unique_values\": 478,\n        \"samples\": [\n          925.0,\n          195.0,\n          503.0\n        ],\n        \"semantic_type\": \"\",\n        \"description\": \"\"\n      }\n    }\n  ]\n}"
            }
          },
          "metadata": {},
          "execution_count": 18
        }
      ]
    },
    {
      "cell_type": "code",
      "source": [
        "## plotting the graph\n",
        "new_data.plot(figsize=(15,10))\n",
        "plt.xlabel(\"Time Period\",fontsize=18)\n",
        "plt.ylabel(\"Closing price Range\",fontsize=18)\n",
        "plt.legend(new_data.columns.values)\n",
        "plt.show()"
      ],
      "metadata": {
        "colab": {
          "base_uri": "https://localhost:8080/",
          "height": 615
        },
        "id": "l4ft85dZoBp5",
        "outputId": "0862e2fb-3173-4dd0-c9d1-1660d2ab4ff5"
      },
      "execution_count": null,
      "outputs": [
        {
          "output_type": "display_data",
          "data": {
            "text/plain": [
              "<Figure size 1500x1000 with 1 Axes>"
            ],
            "image/png": "[encoded data removed]"
          },
          "metadata": {}
        }
      ]
    },
    {
      "cell_type": "markdown",
      "source": [
        "1. This line graph shows daily closing prices of five different stocks over 2020-2024.\n",
        "\n",
        "2. The x-axis represent time frame 2020-2024 and Y-axis represent closing prices.\n",
        "\n",
        "3. Bajaj Finance has the highest closing price among all the companies, followed by Infosys and Sunpharma. ABFRL Retail has the lowest closing price."
      ],
      "metadata": {
        "id": "MOWyN1YgxS4-"
      }
    },
    {
      "cell_type": "code",
      "source": [
        "new_data[\"Bajaj-Finance\"].plot(figsize=(12,4), color=\"Orange\")\n",
        "plt.xlabel(\"Time Period\",fontsize=18)\n",
        "plt.ylabel(\"Closing price Range\",fontsize=18)\n",
        "plt.legend(new_data.columns.values)\n",
        "plt.show()"
      ],
      "metadata": {
        "colab": {
          "base_uri": "https://localhost:8080/",
          "height": 367
        },
        "id": "jReg_DwzusE9",
        "outputId": "944ecb6a-bfb6-42b1-c86a-9d5a001c50b3"
      },
      "execution_count": null,
      "outputs": [
        {
          "output_type": "display_data",
          "data": {
            "text/plain": [
              "<Figure size 1200x400 with 1 Axes>"
            ],
            "image/png": "[encoded data removed]"
          },
          "metadata": {}
        }
      ]
    },
    {
      "cell_type": "markdown",
      "source": [
        "1. This line graph shows daily closing prices of Bajaj-Finances stocks over 2020-2024.\n",
        "\n",
        "2. The x-axis represent time frame 2020-2024 and Y-axis represent closing prices.\n",
        "\n",
        "3. We can see that the closing price of Bajaj Finance has generally increased over the time period."
      ],
      "metadata": {
        "id": "0t2KNZ2dcRCX"
      }
    },
    {
      "cell_type": "code",
      "source": [
        "new_data[\"ABFRL\"].plot(figsize=(12,4), color=\"Blue\")\n",
        "plt.xlabel(\"Time Period\",fontsize=18)\n",
        "plt.ylabel(\"Closing price Range\",fontsize=18)\n",
        "plt.legend(new_data.columns.values)\n",
        "plt.show()"
      ],
      "metadata": {
        "colab": {
          "base_uri": "https://localhost:8080/",
          "height": 370
        },
        "id": "pZmKv2dmcP04",
        "outputId": "2cc086a5-e230-490f-e905-c3ec276e01a8"
      },
      "execution_count": null,
      "outputs": [
        {
          "output_type": "display_data",
          "data": {
            "text/plain": [
              "<Figure size 1200x400 with 1 Axes>"
            ],
            "image/png": "[encoded data removed]"
          },
          "metadata": {}
        }
      ]
    },
    {
      "cell_type": "markdown",
      "source": [
        "1. This line graph shows daily closing prices of Bajaj-Finances stocks over 2020-2024.\n",
        "\n",
        "2. The x-axis represent time frame 2020-2024 and Y-axis represent closing prices.\n",
        "\n",
        "3. We can see that the line graph is fluctuating in whole time frame."
      ],
      "metadata": {
        "id": "wAtxYJfLgvqL"
      }
    },
    {
      "cell_type": "code",
      "source": [
        "## some closer look 2022-07 to 2023-01 Rising line graph\n",
        "new_data[\"ABFRL\"].plot(xlim=[\"2022-07-01\",'2023-01-01'],figsize=(12,4), ls=\"--\",color=\"Blue\")\n",
        "plt.xlabel(\"Time Period\",fontsize=18)\n",
        "plt.ylabel(\"Closing price Range\",fontsize=18)\n",
        "plt.legend(new_data.columns.values)\n",
        "plt.show()\n"
      ],
      "metadata": {
        "colab": {
          "base_uri": "https://localhost:8080/",
          "height": 370
        },
        "id": "jDB7OjDtgrkQ",
        "outputId": "8dc72dc2-9c59-4d76-ccd4-19cd703f1888"
      },
      "execution_count": null,
      "outputs": [
        {
          "output_type": "display_data",
          "data": {
            "text/plain": [
              "<Figure size 1200x400 with 1 Axes>"
            ],
            "image/png": "[encoded data removed]"
          },
          "metadata": {}
        }
      ]
    },
    {
      "cell_type": "markdown",
      "source": [
        "2022-07-01 - 2023-01-01\n",
        "\n",
        "in this period the line graph is stable or less volatile."
      ],
      "metadata": {
        "id": "m5AXzQ8bhrBE"
      }
    },
    {
      "cell_type": "code",
      "source": [
        "## Time Resampling\n",
        "\n",
        "new_data.head(3)"
      ],
      "metadata": {
        "id": "W7Ws2AB8viVG",
        "colab": {
          "base_uri": "https://localhost:8080/",
          "height": 175
        },
        "outputId": "a20b7f8e-b928-4a4f-e138-4d77269a1e11"
      },
      "execution_count": null,
      "outputs": [
        {
          "output_type": "execute_result",
          "data": {
            "text/plain": [
              "Company     ABFRL  Bajaj-Finance  Infosys  Sunpharma  Tata-Motors\n",
              "DATE                                                             \n",
              "2020-10-20  144.0         3262.0   1137.0      486.0        129.0\n",
              "2020-10-21  150.0         3232.0   1148.0      489.0        130.0\n",
              "2020-10-22  153.0         3314.0   1129.0      485.0        133.0"
            ],
            "text/html": [
              "\n",
              "  <div id=\"df-2e3dcee4-4a93-4647-b5a7-bee1cd7df3b3\" class=\"colab-df-container\">\n",
              "    <div>\n",
              "<style scoped>\n",
              "    .dataframe tbody tr th:only-of-type {\n",
              "        vertical-align: middle;\n",
              "    }\n",
              "\n",
              "    .dataframe tbody tr th {\n",
              "        vertical-align: top;\n",
              "    }\n",
              "\n",
              "    .dataframe thead th {\n",
              "        text-align: right;\n",
              "    }\n",
              "</style>\n",
              "<table border=\"1\" class=\"dataframe\">\n",
              "  <thead>\n",
              "    <tr style=\"text-align: right;\">\n",
              "      <th>Company</th>\n",
              "      <th>ABFRL</th>\n",
              "      <th>Bajaj-Finance</th>\n",
              "      <th>Infosys</th>\n",
              "      <th>Sunpharma</th>\n",
              "      <th>Tata-Motors</th>\n",
              "    </tr>\n",
              "    <tr>\n",
              "      <th>DATE</th>\n",
              "      <th></th>\n",
              "      <th></th>\n",
              "      <th></th>\n",
              "      <th></th>\n",
              "      <th></th>\n",
              "    </tr>\n",
              "  </thead>\n",
              "  <tbody>\n",
              "    <tr>\n",
              "      <th>2020-10-20</th>\n",
              "      <td>144.0</td>\n",
              "      <td>3262.0</td>\n",
              "      <td>1137.0</td>\n",
              "      <td>486.0</td>\n",
              "      <td>129.0</td>\n",
              "    </tr>\n",
              "    <tr>\n",
              "      <th>2020-10-21</th>\n",
              "      <td>150.0</td>\n",
              "      <td>3232.0</td>\n",
              "      <td>1148.0</td>\n",
              "      <td>489.0</td>\n",
              "      <td>130.0</td>\n",
              "    </tr>\n",
              "    <tr>\n",
              "      <th>2020-10-22</th>\n",
              "      <td>153.0</td>\n",
              "      <td>3314.0</td>\n",
              "      <td>1129.0</td>\n",
              "      <td>485.0</td>\n",
              "      <td>133.0</td>\n",
              "    </tr>\n",
              "  </tbody>\n",
              "</table>\n",
              "</div>\n",
              "    <div class=\"colab-df-buttons\">\n",
              "\n",
              "  <div class=\"colab-df-container\">\n",
              "    <button class=\"colab-df-convert\" onclick=\"convertToInteractive('df-2e3dcee4-4a93-4647-b5a7-bee1cd7df3b3')\"\n",
              "            title=\"Convert this dataframe to an interactive table.\"\n",
              "            style=\"display:none;\">\n",
              "\n",
              "  <svg xmlns=\"http://www.w3.org/2000/svg\" height=\"24px\" viewBox=\"0 -960 960 960\">\n",
              "    <path d=\"M120-120v-720h720v720H120Zm60-500h600v-160H180v160Zm220 220h160v-160H400v160Zm0 220h160v-160H400v160ZM180-400h160v-160H180v160Zm440 0h160v-160H620v160ZM180-180h160v-160H180v160Zm440 0h160v-160H620v160Z\"/>\n",
              "  </svg>\n",
              "    </button>\n",
              "\n",
              "  <style>\n",
              "    .colab-df-container {\n",
              "      display:flex;\n",
              "      gap: 12px;\n",
              "    }\n",
              "\n",
              "    .colab-df-convert {\n",
              "      background-color: #E8F0FE;\n",
              "      border: none;\n",
              "      border-radius: 50%;\n",
              "      cursor: pointer;\n",
              "      display: none;\n",
              "      fill: #1967D2;\n",
              "      height: 32px;\n",
              "      padding: 0 0 0 0;\n",
              "      width: 32px;\n",
              "    }\n",
              "\n",
              "    .colab-df-convert:hover {\n",
              "      background-color: #E2EBFA;\n",
              "      box-shadow: 0px 1px 2px rgba(60, 64, 67, 0.3), 0px 1px 3px 1px rgba(60, 64, 67, 0.15);\n",
              "      fill: #174EA6;\n",
              "    }\n",
              "\n",
              "    .colab-df-buttons div {\n",
              "      margin-bottom: 4px;\n",
              "    }\n",
              "\n",
              "    [theme=dark] .colab-df-convert {\n",
              "      background-color: #3B4455;\n",
              "      fill: #D2E3FC;\n",
              "    }\n",
              "\n",
              "    [theme=dark] .colab-df-convert:hover {\n",
              "      background-color: #434B5C;\n",
              "      box-shadow: 0px 1px 3px 1px rgba(0, 0, 0, 0.15);\n",
              "      filter: drop-shadow(0px 1px 2px rgba(0, 0, 0, 0.3));\n",
              "      fill: #FFFFFF;\n",
              "    }\n",
              "  </style>\n",
              "\n",
              "    <script>\n",
              "      const buttonEl =\n",
              "        document.querySelector('#df-2e3dcee4-4a93-4647-b5a7-bee1cd7df3b3 button.colab-df-convert');\n",
              "      buttonEl.style.display =\n",
              "        google.colab.kernel.accessAllowed ? 'block' : 'none';\n",
              "\n",
              "      async function convertToInteractive(key) {\n",
              "        const element = document.querySelector('#df-2e3dcee4-4a93-4647-b5a7-bee1cd7df3b3');\n",
              "        const dataTable =\n",
              "          await google.colab.kernel.invokeFunction('convertToInteractive',\n",
              "                                                    [key], {});\n",
              "        if (!dataTable) return;\n",
              "\n",
              "        const docLinkHtml = 'Like what you see? Visit the ' +\n",
              "          '<a target=\"_blank\" href=https://colab.research.google.com/notebooks/data_table.ipynb>data table notebook</a>'\n",
              "          + ' to learn more about interactive tables.';\n",
              "        element.innerHTML = '';\n",
              "        dataTable['output_type'] = 'display_data';\n",
              "        await google.colab.output.renderOutput(dataTable, element);\n",
              "        const docLink = document.createElement('div');\n",
              "        docLink.innerHTML = docLinkHtml;\n",
              "        element.appendChild(docLink);\n",
              "      }\n",
              "    </script>\n",
              "  </div>\n",
              "\n",
              "\n",
              "<div id=\"df-16a4c2b7-0b28-4295-b9d1-ccf6b5c0d256\">\n",
              "  <button class=\"colab-df-quickchart\" onclick=\"quickchart('df-16a4c2b7-0b28-4295-b9d1-ccf6b5c0d256')\"\n",
              "            title=\"Suggest charts\"\n",
              "            style=\"display:none;\">\n",
              "\n",
              "<svg xmlns=\"http://www.w3.org/2000/svg\" height=\"24px\"viewBox=\"0 0 24 24\"\n",
              "     width=\"24px\">\n",
              "    <g>\n",
              "        <path d=\"M19 3H5c-1.1 0-2 .9-2 2v14c0 1.1.9 2 2 2h14c1.1 0 2-.9 2-2V5c0-1.1-.9-2-2-2zM9 17H7v-7h2v7zm4 0h-2V7h2v10zm4 0h-2v-4h2v4z\"/>\n",
              "    </g>\n",
              "</svg>\n",
              "  </button>\n",
              "\n",
              "<style>\n",
              "  .colab-df-quickchart {\n",
              "      --bg-color: #E8F0FE;\n",
              "      --fill-color: #1967D2;\n",
              "      --hover-bg-color: #E2EBFA;\n",
              "      --hover-fill-color: #174EA6;\n",
              "      --disabled-fill-color: #AAA;\n",
              "      --disabled-bg-color: #DDD;\n",
              "  }\n",
              "\n",
              "  [theme=dark] .colab-df-quickchart {\n",
              "      --bg-color: #3B4455;\n",
              "      --fill-color: #D2E3FC;\n",
              "      --hover-bg-color: #434B5C;\n",
              "      --hover-fill-color: #FFFFFF;\n",
              "      --disabled-bg-color: #3B4455;\n",
              "      --disabled-fill-color: #666;\n",
              "  }\n",
              "\n",
              "  .colab-df-quickchart {\n",
              "    background-color: var(--bg-color);\n",
              "    border: none;\n",
              "    border-radius: 50%;\n",
              "    cursor: pointer;\n",
              "    display: none;\n",
              "    fill: var(--fill-color);\n",
              "    height: 32px;\n",
              "    padding: 0;\n",
              "    width: 32px;\n",
              "  }\n",
              "\n",
              "  .colab-df-quickchart:hover {\n",
              "    background-color: var(--hover-bg-color);\n",
              "    box-shadow: 0 1px 2px rgba(60, 64, 67, 0.3), 0 1px 3px 1px rgba(60, 64, 67, 0.15);\n",
              "    fill: var(--button-hover-fill-color);\n",
              "  }\n",
              "\n",
              "  .colab-df-quickchart-complete:disabled,\n",
              "  .colab-df-quickchart-complete:disabled:hover {\n",
              "    background-color: var(--disabled-bg-color);\n",
              "    fill: var(--disabled-fill-color);\n",
              "    box-shadow: none;\n",
              "  }\n",
              "\n",
              "  .colab-df-spinner {\n",
              "    border: 2px solid var(--fill-color);\n",
              "    border-color: transparent;\n",
              "    border-bottom-color: var(--fill-color);\n",
              "    animation:\n",
              "      spin 1s steps(1) infinite;\n",
              "  }\n",
              "\n",
              "  @keyframes spin {\n",
              "    0% {\n",
              "      border-color: transparent;\n",
              "      border-bottom-color: var(--fill-color);\n",
              "      border-left-color: var(--fill-color);\n",
              "    }\n",
              "    20% {\n",
              "      border-color: transparent;\n",
              "      border-left-color: var(--fill-color);\n",
              "      border-top-color: var(--fill-color);\n",
              "    }\n",
              "    30% {\n",
              "      border-color: transparent;\n",
              "      border-left-color: var(--fill-color);\n",
              "      border-top-color: var(--fill-color);\n",
              "      border-right-color: var(--fill-color);\n",
              "    }\n",
              "    40% {\n",
              "      border-color: transparent;\n",
              "      border-right-color: var(--fill-color);\n",
              "      border-top-color: var(--fill-color);\n",
              "    }\n",
              "    60% {\n",
              "      border-color: transparent;\n",
              "      border-right-color: var(--fill-color);\n",
              "    }\n",
              "    80% {\n",
              "      border-color: transparent;\n",
              "      border-right-color: var(--fill-color);\n",
              "      border-bottom-color: var(--fill-color);\n",
              "    }\n",
              "    90% {\n",
              "      border-color: transparent;\n",
              "      border-bottom-color: var(--fill-color);\n",
              "    }\n",
              "  }\n",
              "</style>\n",
              "\n",
              "  <script>\n",
              "    async function quickchart(key) {\n",
              "      const quickchartButtonEl =\n",
              "        document.querySelector('#' + key + ' button');\n",
              "      quickchartButtonEl.disabled = true;  // To prevent multiple clicks.\n",
              "      quickchartButtonEl.classList.add('colab-df-spinner');\n",
              "      try {\n",
              "        const charts = await google.colab.kernel.invokeFunction(\n",
              "            'suggestCharts', [key], {});\n",
              "      } catch (error) {\n",
              "        console.error('Error during call to suggestCharts:', error);\n",
              "      }\n",
              "      quickchartButtonEl.classList.remove('colab-df-spinner');\n",
              "      quickchartButtonEl.classList.add('colab-df-quickchart-complete');\n",
              "    }\n",
              "    (() => {\n",
              "      let quickchartButtonEl =\n",
              "        document.querySelector('#df-16a4c2b7-0b28-4295-b9d1-ccf6b5c0d256 button');\n",
              "      quickchartButtonEl.style.display =\n",
              "        google.colab.kernel.accessAllowed ? 'block' : 'none';\n",
              "    })();\n",
              "  </script>\n",
              "</div>\n",
              "\n",
              "    </div>\n",
              "  </div>\n"
            ],
            "application/vnd.google.colaboratory.intrinsic+json": {
              "type": "dataframe",
              "variable_name": "new_data",
              "summary": "{\n  \"name\": \"new_data\",\n  \"rows\": 992,\n  \"fields\": [\n    {\n      \"column\": \"DATE\",\n      \"properties\": {\n        \"dtype\": \"date\",\n        \"min\": \"2020-10-20 00:00:00\",\n        \"max\": \"2024-10-18 00:00:00\",\n        \"num_unique_values\": 992,\n        \"samples\": [\n          \"2021-08-31 00:00:00\",\n          \"2022-02-18 00:00:00\",\n          \"2022-10-28 00:00:00\"\n        ],\n        \"semantic_type\": \"\",\n        \"description\": \"\"\n      }\n    },\n    {\n      \"column\": \"ABFRL\",\n      \"properties\": {\n        \"dtype\": \"number\",\n        \"std\": 51.024960487212475,\n        \"min\": 144.0,\n        \"max\": 358.0,\n        \"num_unique_values\": 196,\n        \"samples\": [\n          234.0,\n          286.0,\n          160.0\n        ],\n        \"semantic_type\": \"\",\n        \"description\": \"\"\n      }\n    },\n    {\n      \"column\": \"Bajaj-Finance\",\n      \"properties\": {\n        \"dtype\": \"number\",\n        \"std\": 913.5849560203801,\n        \"min\": 3232.0,\n        \"max\": 8168.0,\n        \"num_unique_values\": 824,\n        \"samples\": [\n          7108.0,\n          6129.0,\n          4734.0\n        ],\n        \"semantic_type\": \"\",\n        \"description\": \"\"\n      }\n    },\n    {\n      \"column\": \"Infosys\",\n      \"properties\": {\n        \"dtype\": \"number\",\n        \"std\": 195.83666044678344,\n        \"min\": 1060.0,\n        \"max\": 1968.0,\n        \"num_unique_values\": 537,\n        \"samples\": [\n          1758.0,\n          1290.0,\n          1398.0\n        ],\n        \"semantic_type\": \"\",\n        \"description\": \"\"\n      }\n    },\n    {\n      \"column\": \"Sunpharma\",\n      \"properties\": {\n        \"dtype\": \"number\",\n        \"std\": 344.7144046049173,\n        \"min\": 456.0,\n        \"max\": 1948.0,\n        \"num_unique_values\": 594,\n        \"samples\": [\n          575.0,\n          1008.0,\n          759.0\n        ],\n        \"semantic_type\": \"\",\n        \"description\": \"\"\n      }\n    },\n    {\n      \"column\": \"Tata-Motors\",\n      \"properties\": {\n        \"dtype\": \"number\",\n        \"std\": 249.7694882649906,\n        \"min\": 129.0,\n        \"max\": 1161.0,\n        \"num_unique_values\": 478,\n        \"samples\": [\n          925.0,\n          195.0,\n          503.0\n        ],\n        \"semantic_type\": \"\",\n        \"description\": \"\"\n      }\n    }\n  ]\n}"
            }
          },
          "metadata": {},
          "execution_count": 23
        }
      ]
    },
    {
      "cell_type": "code",
      "source": [
        "## year end frequency\n",
        "new_data.resample(rule=\"A\").max()\n",
        "## Getting the maximum close price of 5 years in 5 different companies"
      ],
      "metadata": {
        "colab": {
          "base_uri": "https://localhost:8080/",
          "height": 294
        },
        "id": "PD8eNnDlSz_u",
        "outputId": "ffb143d8-d101-4d89-9d7b-e6be780eb386"
      },
      "execution_count": null,
      "outputs": [
        {
          "output_type": "stream",
          "name": "stderr",
          "text": [
            "<ipython-input-24-aa7900641277>:2: FutureWarning: 'A' is deprecated and will be removed in a future version, please use 'YE' instead.\n",
            "  new_data.resample(rule=\"A\").max()\n"
          ]
        },
        {
          "output_type": "execute_result",
          "data": {
            "text/plain": [
              "Company     ABFRL  Bajaj-Finance  Infosys  Sunpharma  Tata-Motors\n",
              "DATE                                                             \n",
              "2020-12-31  165.0         5334.0   1255.0      592.0        186.0\n",
              "2021-12-31  305.0         7929.0   1892.0      845.0        530.0\n",
              "2022-12-31  358.0         7852.0   1939.0     1051.0        525.0\n",
              "2023-12-31  286.0         8168.0   1617.0     1262.0        779.0\n",
              "2024-12-31  352.0         7768.0   1968.0     1948.0       1161.0"
            ],
            "text/html": [
              "\n",
              "  <div id=\"df-2a2cdb7b-0955-4d95-a2e1-64b802b104b8\" class=\"colab-df-container\">\n",
              "    <div>\n",
              "<style scoped>\n",
              "    .dataframe tbody tr th:only-of-type {\n",
              "        vertical-align: middle;\n",
              "    }\n",
              "\n",
              "    .dataframe tbody tr th {\n",
              "        vertical-align: top;\n",
              "    }\n",
              "\n",
              "    .dataframe thead th {\n",
              "        text-align: right;\n",
              "    }\n",
              "</style>\n",
              "<table border=\"1\" class=\"dataframe\">\n",
              "  <thead>\n",
              "    <tr style=\"text-align: right;\">\n",
              "      <th>Company</th>\n",
              "      <th>ABFRL</th>\n",
              "      <th>Bajaj-Finance</th>\n",
              "      <th>Infosys</th>\n",
              "      <th>Sunpharma</th>\n",
              "      <th>Tata-Motors</th>\n",
              "    </tr>\n",
              "    <tr>\n",
              "      <th>DATE</th>\n",
              "      <th></th>\n",
              "      <th></th>\n",
              "      <th></th>\n",
              "      <th></th>\n",
              "      <th></th>\n",
              "    </tr>\n",
              "  </thead>\n",
              "  <tbody>\n",
              "    <tr>\n",
              "      <th>2020-12-31</th>\n",
              "      <td>165.0</td>\n",
              "      <td>5334.0</td>\n",
              "      <td>1255.0</td>\n",
              "      <td>592.0</td>\n",
              "      <td>186.0</td>\n",
              "    </tr>\n",
              "    <tr>\n",
              "      <th>2021-12-31</th>\n",
              "      <td>305.0</td>\n",
              "      <td>7929.0</td>\n",
              "      <td>1892.0</td>\n",
              "      <td>845.0</td>\n",
              "      <td>530.0</td>\n",
              "    </tr>\n",
              "    <tr>\n",
              "      <th>2022-12-31</th>\n",
              "      <td>358.0</td>\n",
              "      <td>7852.0</td>\n",
              "      <td>1939.0</td>\n",
              "      <td>1051.0</td>\n",
              "      <td>525.0</td>\n",
              "    </tr>\n",
              "    <tr>\n",
              "      <th>2023-12-31</th>\n",
              "      <td>286.0</td>\n",
              "      <td>8168.0</td>\n",
              "      <td>1617.0</td>\n",
              "      <td>1262.0</td>\n",
              "      <td>779.0</td>\n",
              "    </tr>\n",
              "    <tr>\n",
              "      <th>2024-12-31</th>\n",
              "      <td>352.0</td>\n",
              "      <td>7768.0</td>\n",
              "      <td>1968.0</td>\n",
              "      <td>1948.0</td>\n",
              "      <td>1161.0</td>\n",
              "    </tr>\n",
              "  </tbody>\n",
              "</table>\n",
              "</div>\n",
              "    <div class=\"colab-df-buttons\">\n",
              "\n",
              "  <div class=\"colab-df-container\">\n",
              "    <button class=\"colab-df-convert\" onclick=\"convertToInteractive('df-2a2cdb7b-0955-4d95-a2e1-64b802b104b8')\"\n",
              "            title=\"Convert this dataframe to an interactive table.\"\n",
              "            style=\"display:none;\">\n",
              "\n",
              "  <svg xmlns=\"http://www.w3.org/2000/svg\" height=\"24px\" viewBox=\"0 -960 960 960\">\n",
              "    <path d=\"M120-120v-720h720v720H120Zm60-500h600v-160H180v160Zm220 220h160v-160H400v160Zm0 220h160v-160H400v160ZM180-400h160v-160H180v160Zm440 0h160v-160H620v160ZM180-180h160v-160H180v160Zm440 0h160v-160H620v160Z\"/>\n",
              "  </svg>\n",
              "    </button>\n",
              "\n",
              "  <style>\n",
              "    .colab-df-container {\n",
              "      display:flex;\n",
              "      gap: 12px;\n",
              "    }\n",
              "\n",
              "    .colab-df-convert {\n",
              "      background-color: #E8F0FE;\n",
              "      border: none;\n",
              "      border-radius: 50%;\n",
              "      cursor: pointer;\n",
              "      display: none;\n",
              "      fill: #1967D2;\n",
              "      height: 32px;\n",
              "      padding: 0 0 0 0;\n",
              "      width: 32px;\n",
              "    }\n",
              "\n",
              "    .colab-df-convert:hover {\n",
              "      background-color: #E2EBFA;\n",
              "      box-shadow: 0px 1px 2px rgba(60, 64, 67, 0.3), 0px 1px 3px 1px rgba(60, 64, 67, 0.15);\n",
              "      fill: #174EA6;\n",
              "    }\n",
              "\n",
              "    .colab-df-buttons div {\n",
              "      margin-bottom: 4px;\n",
              "    }\n",
              "\n",
              "    [theme=dark] .colab-df-convert {\n",
              "      background-color: #3B4455;\n",
              "      fill: #D2E3FC;\n",
              "    }\n",
              "\n",
              "    [theme=dark] .colab-df-convert:hover {\n",
              "      background-color: #434B5C;\n",
              "      box-shadow: 0px 1px 3px 1px rgba(0, 0, 0, 0.15);\n",
              "      filter: drop-shadow(0px 1px 2px rgba(0, 0, 0, 0.3));\n",
              "      fill: #FFFFFF;\n",
              "    }\n",
              "  </style>\n",
              "\n",
              "    <script>\n",
              "      const buttonEl =\n",
              "        document.querySelector('#df-2a2cdb7b-0955-4d95-a2e1-64b802b104b8 button.colab-df-convert');\n",
              "      buttonEl.style.display =\n",
              "        google.colab.kernel.accessAllowed ? 'block' : 'none';\n",
              "\n",
              "      async function convertToInteractive(key) {\n",
              "        const element = document.querySelector('#df-2a2cdb7b-0955-4d95-a2e1-64b802b104b8');\n",
              "        const dataTable =\n",
              "          await google.colab.kernel.invokeFunction('convertToInteractive',\n",
              "                                                    [key], {});\n",
              "        if (!dataTable) return;\n",
              "\n",
              "        const docLinkHtml = 'Like what you see? Visit the ' +\n",
              "          '<a target=\"_blank\" href=https://colab.research.google.com/notebooks/data_table.ipynb>data table notebook</a>'\n",
              "          + ' to learn more about interactive tables.';\n",
              "        element.innerHTML = '';\n",
              "        dataTable['output_type'] = 'display_data';\n",
              "        await google.colab.output.renderOutput(dataTable, element);\n",
              "        const docLink = document.createElement('div');\n",
              "        docLink.innerHTML = docLinkHtml;\n",
              "        element.appendChild(docLink);\n",
              "      }\n",
              "    </script>\n",
              "  </div>\n",
              "\n",
              "\n",
              "<div id=\"df-597e847c-ed5c-4b7f-9406-f098753a96a1\">\n",
              "  <button class=\"colab-df-quickchart\" onclick=\"quickchart('df-597e847c-ed5c-4b7f-9406-f098753a96a1')\"\n",
              "            title=\"Suggest charts\"\n",
              "            style=\"display:none;\">\n",
              "\n",
              "<svg xmlns=\"http://www.w3.org/2000/svg\" height=\"24px\"viewBox=\"0 0 24 24\"\n",
              "     width=\"24px\">\n",
              "    <g>\n",
              "        <path d=\"M19 3H5c-1.1 0-2 .9-2 2v14c0 1.1.9 2 2 2h14c1.1 0 2-.9 2-2V5c0-1.1-.9-2-2-2zM9 17H7v-7h2v7zm4 0h-2V7h2v10zm4 0h-2v-4h2v4z\"/>\n",
              "    </g>\n",
              "</svg>\n",
              "  </button>\n",
              "\n",
              "<style>\n",
              "  .colab-df-quickchart {\n",
              "      --bg-color: #E8F0FE;\n",
              "      --fill-color: #1967D2;\n",
              "      --hover-bg-color: #E2EBFA;\n",
              "      --hover-fill-color: #174EA6;\n",
              "      --disabled-fill-color: #AAA;\n",
              "      --disabled-bg-color: #DDD;\n",
              "  }\n",
              "\n",
              "  [theme=dark] .colab-df-quickchart {\n",
              "      --bg-color: #3B4455;\n",
              "      --fill-color: #D2E3FC;\n",
              "      --hover-bg-color: #434B5C;\n",
              "      --hover-fill-color: #FFFFFF;\n",
              "      --disabled-bg-color: #3B4455;\n",
              "      --disabled-fill-color: #666;\n",
              "  }\n",
              "\n",
              "  .colab-df-quickchart {\n",
              "    background-color: var(--bg-color);\n",
              "    border: none;\n",
              "    border-radius: 50%;\n",
              "    cursor: pointer;\n",
              "    display: none;\n",
              "    fill: var(--fill-color);\n",
              "    height: 32px;\n",
              "    padding: 0;\n",
              "    width: 32px;\n",
              "  }\n",
              "\n",
              "  .colab-df-quickchart:hover {\n",
              "    background-color: var(--hover-bg-color);\n",
              "    box-shadow: 0 1px 2px rgba(60, 64, 67, 0.3), 0 1px 3px 1px rgba(60, 64, 67, 0.15);\n",
              "    fill: var(--button-hover-fill-color);\n",
              "  }\n",
              "\n",
              "  .colab-df-quickchart-complete:disabled,\n",
              "  .colab-df-quickchart-complete:disabled:hover {\n",
              "    background-color: var(--disabled-bg-color);\n",
              "    fill: var(--disabled-fill-color);\n",
              "    box-shadow: none;\n",
              "  }\n",
              "\n",
              "  .colab-df-spinner {\n",
              "    border: 2px solid var(--fill-color);\n",
              "    border-color: transparent;\n",
              "    border-bottom-color: var(--fill-color);\n",
              "    animation:\n",
              "      spin 1s steps(1) infinite;\n",
              "  }\n",
              "\n",
              "  @keyframes spin {\n",
              "    0% {\n",
              "      border-color: transparent;\n",
              "      border-bottom-color: var(--fill-color);\n",
              "      border-left-color: var(--fill-color);\n",
              "    }\n",
              "    20% {\n",
              "      border-color: transparent;\n",
              "      border-left-color: var(--fill-color);\n",
              "      border-top-color: var(--fill-color);\n",
              "    }\n",
              "    30% {\n",
              "      border-color: transparent;\n",
              "      border-left-color: var(--fill-color);\n",
              "      border-top-color: var(--fill-color);\n",
              "      border-right-color: var(--fill-color);\n",
              "    }\n",
              "    40% {\n",
              "      border-color: transparent;\n",
              "      border-right-color: var(--fill-color);\n",
              "      border-top-color: var(--fill-color);\n",
              "    }\n",
              "    60% {\n",
              "      border-color: transparent;\n",
              "      border-right-color: var(--fill-color);\n",
              "    }\n",
              "    80% {\n",
              "      border-color: transparent;\n",
              "      border-right-color: var(--fill-color);\n",
              "      border-bottom-color: var(--fill-color);\n",
              "    }\n",
              "    90% {\n",
              "      border-color: transparent;\n",
              "      border-bottom-color: var(--fill-color);\n",
              "    }\n",
              "  }\n",
              "</style>\n",
              "\n",
              "  <script>\n",
              "    async function quickchart(key) {\n",
              "      const quickchartButtonEl =\n",
              "        document.querySelector('#' + key + ' button');\n",
              "      quickchartButtonEl.disabled = true;  // To prevent multiple clicks.\n",
              "      quickchartButtonEl.classList.add('colab-df-spinner');\n",
              "      try {\n",
              "        const charts = await google.colab.kernel.invokeFunction(\n",
              "            'suggestCharts', [key], {});\n",
              "      } catch (error) {\n",
              "        console.error('Error during call to suggestCharts:', error);\n",
              "      }\n",
              "      quickchartButtonEl.classList.remove('colab-df-spinner');\n",
              "      quickchartButtonEl.classList.add('colab-df-quickchart-complete');\n",
              "    }\n",
              "    (() => {\n",
              "      let quickchartButtonEl =\n",
              "        document.querySelector('#df-597e847c-ed5c-4b7f-9406-f098753a96a1 button');\n",
              "      quickchartButtonEl.style.display =\n",
              "        google.colab.kernel.accessAllowed ? 'block' : 'none';\n",
              "    })();\n",
              "  </script>\n",
              "</div>\n",
              "\n",
              "    </div>\n",
              "  </div>\n"
            ],
            "application/vnd.google.colaboratory.intrinsic+json": {
              "type": "dataframe",
              "summary": "{\n  \"name\": \"## Getting the maximum close price of 5 years in 5 different companies\",\n  \"rows\": 5,\n  \"fields\": [\n    {\n      \"column\": \"DATE\",\n      \"properties\": {\n        \"dtype\": \"date\",\n        \"min\": \"2020-12-31 00:00:00\",\n        \"max\": \"2024-12-31 00:00:00\",\n        \"num_unique_values\": 5,\n        \"samples\": [\n          \"2021-12-31 00:00:00\",\n          \"2024-12-31 00:00:00\",\n          \"2022-12-31 00:00:00\"\n        ],\n        \"semantic_type\": \"\",\n        \"description\": \"\"\n      }\n    },\n    {\n      \"column\": \"ABFRL\",\n      \"properties\": {\n        \"dtype\": \"number\",\n        \"std\": 77.91469694479983,\n        \"min\": 165.0,\n        \"max\": 358.0,\n        \"num_unique_values\": 5,\n        \"samples\": [\n          305.0,\n          352.0,\n          358.0\n        ],\n        \"semantic_type\": \"\",\n        \"description\": \"\"\n      }\n    },\n    {\n      \"column\": \"Bajaj-Finance\",\n      \"properties\": {\n        \"dtype\": \"number\",\n        \"std\": 1170.1740041549376,\n        \"min\": 5334.0,\n        \"max\": 8168.0,\n        \"num_unique_values\": 5,\n        \"samples\": [\n          7929.0,\n          7768.0,\n          7852.0\n        ],\n        \"semantic_type\": \"\",\n        \"description\": \"\"\n      }\n    },\n    {\n      \"column\": \"Infosys\",\n      \"properties\": {\n        \"dtype\": \"number\",\n        \"std\": 302.02433676775127,\n        \"min\": 1255.0,\n        \"max\": 1968.0,\n        \"num_unique_values\": 5,\n        \"samples\": [\n          1892.0,\n          1968.0,\n          1939.0\n        ],\n        \"semantic_type\": \"\",\n        \"description\": \"\"\n      }\n    },\n    {\n      \"column\": \"Sunpharma\",\n      \"properties\": {\n        \"dtype\": \"number\",\n        \"std\": 515.5087778108148,\n        \"min\": 592.0,\n        \"max\": 1948.0,\n        \"num_unique_values\": 5,\n        \"samples\": [\n          845.0,\n          1948.0,\n          1051.0\n        ],\n        \"semantic_type\": \"\",\n        \"description\": \"\"\n      }\n    },\n    {\n      \"column\": \"Tata-Motors\",\n      \"properties\": {\n        \"dtype\": \"number\",\n        \"std\": 361.29309431540486,\n        \"min\": 186.0,\n        \"max\": 1161.0,\n        \"num_unique_values\": 5,\n        \"samples\": [\n          530.0,\n          1161.0,\n          525.0\n        ],\n        \"semantic_type\": \"\",\n        \"description\": \"\"\n      }\n    }\n  ]\n}"
            }
          },
          "metadata": {},
          "execution_count": 24
        }
      ]
    },
    {
      "cell_type": "markdown",
      "source": [
        "The above table shows yearly wise highest closing price of all companies. through this table we can see yearly wise which company is improving / changing. Tata motors, sunpharma is increasing the maximium price year by year where as infosys is fluctuating."
      ],
      "metadata": {
        "id": "ERDeEBBDsVUQ"
      }
    },
    {
      "cell_type": "code",
      "source": [
        "new_data.resample(rule=\"YE\").mean()"
      ],
      "metadata": {
        "colab": {
          "base_uri": "https://localhost:8080/",
          "height": 237
        },
        "id": "JPZ32DB0cKRg",
        "outputId": "325f3388-9ecd-45ee-887f-bb0c4a9ec664"
      },
      "execution_count": null,
      "outputs": [
        {
          "output_type": "execute_result",
          "data": {
            "text/plain": [
              "Company          ABFRL  Bajaj-Finance      Infosys    Sunpharma  Tata-Motors\n",
              "DATE                                                                        \n",
              "2020-12-31  157.660000    4439.000000  1141.320000   528.580000   161.500000\n",
              "2021-12-31  214.000000    6230.907258  1535.028226   704.137097   347.282258\n",
              "2022-12-31  291.145161    6771.500000  1592.181452   907.600806   438.008065\n",
              "2023-12-31  223.361789    6884.296748  1416.028455  1069.016260   558.390244\n",
              "2024-12-31  280.780000    6995.155000  1660.355000  1598.625000   970.775000"
            ],
            "text/html": [
              "\n",
              "  <div id=\"df-98eae90e-4a3c-4260-8019-ec96f4748810\" class=\"colab-df-container\">\n",
              "    <div>\n",
              "<style scoped>\n",
              "    .dataframe tbody tr th:only-of-type {\n",
              "        vertical-align: middle;\n",
              "    }\n",
              "\n",
              "    .dataframe tbody tr th {\n",
              "        vertical-align: top;\n",
              "    }\n",
              "\n",
              "    .dataframe thead th {\n",
              "        text-align: right;\n",
              "    }\n",
              "</style>\n",
              "<table border=\"1\" class=\"dataframe\">\n",
              "  <thead>\n",
              "    <tr style=\"text-align: right;\">\n",
              "      <th>Company</th>\n",
              "      <th>ABFRL</th>\n",
              "      <th>Bajaj-Finance</th>\n",
              "      <th>Infosys</th>\n",
              "      <th>Sunpharma</th>\n",
              "      <th>Tata-Motors</th>\n",
              "    </tr>\n",
              "    <tr>\n",
              "      <th>DATE</th>\n",
              "      <th></th>\n",
              "      <th></th>\n",
              "      <th></th>\n",
              "      <th></th>\n",
              "      <th></th>\n",
              "    </tr>\n",
              "  </thead>\n",
              "  <tbody>\n",
              "    <tr>\n",
              "      <th>2020-12-31</th>\n",
              "      <td>157.660000</td>\n",
              "      <td>4439.000000</td>\n",
              "      <td>1141.320000</td>\n",
              "      <td>528.580000</td>\n",
              "      <td>161.500000</td>\n",
              "    </tr>\n",
              "    <tr>\n",
              "      <th>2021-12-31</th>\n",
              "      <td>214.000000</td>\n",
              "      <td>6230.907258</td>\n",
              "      <td>1535.028226</td>\n",
              "      <td>704.137097</td>\n",
              "      <td>347.282258</td>\n",
              "    </tr>\n",
              "    <tr>\n",
              "      <th>2022-12-31</th>\n",
              "      <td>291.145161</td>\n",
              "      <td>6771.500000</td>\n",
              "      <td>1592.181452</td>\n",
              "      <td>907.600806</td>\n",
              "      <td>438.008065</td>\n",
              "    </tr>\n",
              "    <tr>\n",
              "      <th>2023-12-31</th>\n",
              "      <td>223.361789</td>\n",
              "      <td>6884.296748</td>\n",
              "      <td>1416.028455</td>\n",
              "      <td>1069.016260</td>\n",
              "      <td>558.390244</td>\n",
              "    </tr>\n",
              "    <tr>\n",
              "      <th>2024-12-31</th>\n",
              "      <td>280.780000</td>\n",
              "      <td>6995.155000</td>\n",
              "      <td>1660.355000</td>\n",
              "      <td>1598.625000</td>\n",
              "      <td>970.775000</td>\n",
              "    </tr>\n",
              "  </tbody>\n",
              "</table>\n",
              "</div>\n",
              "    <div class=\"colab-df-buttons\">\n",
              "\n",
              "  <div class=\"colab-df-container\">\n",
              "    <button class=\"colab-df-convert\" onclick=\"convertToInteractive('df-98eae90e-4a3c-4260-8019-ec96f4748810')\"\n",
              "            title=\"Convert this dataframe to an interactive table.\"\n",
              "            style=\"display:none;\">\n",
              "\n",
              "  <svg xmlns=\"http://www.w3.org/2000/svg\" height=\"24px\" viewBox=\"0 -960 960 960\">\n",
              "    <path d=\"M120-120v-720h720v720H120Zm60-500h600v-160H180v160Zm220 220h160v-160H400v160Zm0 220h160v-160H400v160ZM180-400h160v-160H180v160Zm440 0h160v-160H620v160ZM180-180h160v-160H180v160Zm440 0h160v-160H620v160Z\"/>\n",
              "  </svg>\n",
              "    </button>\n",
              "\n",
              "  <style>\n",
              "    .colab-df-container {\n",
              "      display:flex;\n",
              "      gap: 12px;\n",
              "    }\n",
              "\n",
              "    .colab-df-convert {\n",
              "      background-color: #E8F0FE;\n",
              "      border: none;\n",
              "      border-radius: 50%;\n",
              "      cursor: pointer;\n",
              "      display: none;\n",
              "      fill: #1967D2;\n",
              "      height: 32px;\n",
              "      padding: 0 0 0 0;\n",
              "      width: 32px;\n",
              "    }\n",
              "\n",
              "    .colab-df-convert:hover {\n",
              "      background-color: #E2EBFA;\n",
              "      box-shadow: 0px 1px 2px rgba(60, 64, 67, 0.3), 0px 1px 3px 1px rgba(60, 64, 67, 0.15);\n",
              "      fill: #174EA6;\n",
              "    }\n",
              "\n",
              "    .colab-df-buttons div {\n",
              "      margin-bottom: 4px;\n",
              "    }\n",
              "\n",
              "    [theme=dark] .colab-df-convert {\n",
              "      background-color: #3B4455;\n",
              "      fill: #D2E3FC;\n",
              "    }\n",
              "\n",
              "    [theme=dark] .colab-df-convert:hover {\n",
              "      background-color: #434B5C;\n",
              "      box-shadow: 0px 1px 3px 1px rgba(0, 0, 0, 0.15);\n",
              "      filter: drop-shadow(0px 1px 2px rgba(0, 0, 0, 0.3));\n",
              "      fill: #FFFFFF;\n",
              "    }\n",
              "  </style>\n",
              "\n",
              "    <script>\n",
              "      const buttonEl =\n",
              "        document.querySelector('#df-98eae90e-4a3c-4260-8019-ec96f4748810 button.colab-df-convert');\n",
              "      buttonEl.style.display =\n",
              "        google.colab.kernel.accessAllowed ? 'block' : 'none';\n",
              "\n",
              "      async function convertToInteractive(key) {\n",
              "        const element = document.querySelector('#df-98eae90e-4a3c-4260-8019-ec96f4748810');\n",
              "        const dataTable =\n",
              "          await google.colab.kernel.invokeFunction('convertToInteractive',\n",
              "                                                    [key], {});\n",
              "        if (!dataTable) return;\n",
              "\n",
              "        const docLinkHtml = 'Like what you see? Visit the ' +\n",
              "          '<a target=\"_blank\" href=https://colab.research.google.com/notebooks/data_table.ipynb>data table notebook</a>'\n",
              "          + ' to learn more about interactive tables.';\n",
              "        element.innerHTML = '';\n",
              "        dataTable['output_type'] = 'display_data';\n",
              "        await google.colab.output.renderOutput(dataTable, element);\n",
              "        const docLink = document.createElement('div');\n",
              "        docLink.innerHTML = docLinkHtml;\n",
              "        element.appendChild(docLink);\n",
              "      }\n",
              "    </script>\n",
              "  </div>\n",
              "\n",
              "\n",
              "<div id=\"df-fc5fed20-e951-497d-8d68-7ef09b814fdf\">\n",
              "  <button class=\"colab-df-quickchart\" onclick=\"quickchart('df-fc5fed20-e951-497d-8d68-7ef09b814fdf')\"\n",
              "            title=\"Suggest charts\"\n",
              "            style=\"display:none;\">\n",
              "\n",
              "<svg xmlns=\"http://www.w3.org/2000/svg\" height=\"24px\"viewBox=\"0 0 24 24\"\n",
              "     width=\"24px\">\n",
              "    <g>\n",
              "        <path d=\"M19 3H5c-1.1 0-2 .9-2 2v14c0 1.1.9 2 2 2h14c1.1 0 2-.9 2-2V5c0-1.1-.9-2-2-2zM9 17H7v-7h2v7zm4 0h-2V7h2v10zm4 0h-2v-4h2v4z\"/>\n",
              "    </g>\n",
              "</svg>\n",
              "  </button>\n",
              "\n",
              "<style>\n",
              "  .colab-df-quickchart {\n",
              "      --bg-color: #E8F0FE;\n",
              "      --fill-color: #1967D2;\n",
              "      --hover-bg-color: #E2EBFA;\n",
              "      --hover-fill-color: #174EA6;\n",
              "      --disabled-fill-color: #AAA;\n",
              "      --disabled-bg-color: #DDD;\n",
              "  }\n",
              "\n",
              "  [theme=dark] .colab-df-quickchart {\n",
              "      --bg-color: #3B4455;\n",
              "      --fill-color: #D2E3FC;\n",
              "      --hover-bg-color: #434B5C;\n",
              "      --hover-fill-color: #FFFFFF;\n",
              "      --disabled-bg-color: #3B4455;\n",
              "      --disabled-fill-color: #666;\n",
              "  }\n",
              "\n",
              "  .colab-df-quickchart {\n",
              "    background-color: var(--bg-color);\n",
              "    border: none;\n",
              "    border-radius: 50%;\n",
              "    cursor: pointer;\n",
              "    display: none;\n",
              "    fill: var(--fill-color);\n",
              "    height: 32px;\n",
              "    padding: 0;\n",
              "    width: 32px;\n",
              "  }\n",
              "\n",
              "  .colab-df-quickchart:hover {\n",
              "    background-color: var(--hover-bg-color);\n",
              "    box-shadow: 0 1px 2px rgba(60, 64, 67, 0.3), 0 1px 3px 1px rgba(60, 64, 67, 0.15);\n",
              "    fill: var(--button-hover-fill-color);\n",
              "  }\n",
              "\n",
              "  .colab-df-quickchart-complete:disabled,\n",
              "  .colab-df-quickchart-complete:disabled:hover {\n",
              "    background-color: var(--disabled-bg-color);\n",
              "    fill: var(--disabled-fill-color);\n",
              "    box-shadow: none;\n",
              "  }\n",
              "\n",
              "  .colab-df-spinner {\n",
              "    border: 2px solid var(--fill-color);\n",
              "    border-color: transparent;\n",
              "    border-bottom-color: var(--fill-color);\n",
              "    animation:\n",
              "      spin 1s steps(1) infinite;\n",
              "  }\n",
              "\n",
              "  @keyframes spin {\n",
              "    0% {\n",
              "      border-color: transparent;\n",
              "      border-bottom-color: var(--fill-color);\n",
              "      border-left-color: var(--fill-color);\n",
              "    }\n",
              "    20% {\n",
              "      border-color: transparent;\n",
              "      border-left-color: var(--fill-color);\n",
              "      border-top-color: var(--fill-color);\n",
              "    }\n",
              "    30% {\n",
              "      border-color: transparent;\n",
              "      border-left-color: var(--fill-color);\n",
              "      border-top-color: var(--fill-color);\n",
              "      border-right-color: var(--fill-color);\n",
              "    }\n",
              "    40% {\n",
              "      border-color: transparent;\n",
              "      border-right-color: var(--fill-color);\n",
              "      border-top-color: var(--fill-color);\n",
              "    }\n",
              "    60% {\n",
              "      border-color: transparent;\n",
              "      border-right-color: var(--fill-color);\n",
              "    }\n",
              "    80% {\n",
              "      border-color: transparent;\n",
              "      border-right-color: var(--fill-color);\n",
              "      border-bottom-color: var(--fill-color);\n",
              "    }\n",
              "    90% {\n",
              "      border-color: transparent;\n",
              "      border-bottom-color: var(--fill-color);\n",
              "    }\n",
              "  }\n",
              "</style>\n",
              "\n",
              "  <script>\n",
              "    async function quickchart(key) {\n",
              "      const quickchartButtonEl =\n",
              "        document.querySelector('#' + key + ' button');\n",
              "      quickchartButtonEl.disabled = true;  // To prevent multiple clicks.\n",
              "      quickchartButtonEl.classList.add('colab-df-spinner');\n",
              "      try {\n",
              "        const charts = await google.colab.kernel.invokeFunction(\n",
              "            'suggestCharts', [key], {});\n",
              "      } catch (error) {\n",
              "        console.error('Error during call to suggestCharts:', error);\n",
              "      }\n",
              "      quickchartButtonEl.classList.remove('colab-df-spinner');\n",
              "      quickchartButtonEl.classList.add('colab-df-quickchart-complete');\n",
              "    }\n",
              "    (() => {\n",
              "      let quickchartButtonEl =\n",
              "        document.querySelector('#df-fc5fed20-e951-497d-8d68-7ef09b814fdf button');\n",
              "      quickchartButtonEl.style.display =\n",
              "        google.colab.kernel.accessAllowed ? 'block' : 'none';\n",
              "    })();\n",
              "  </script>\n",
              "</div>\n",
              "\n",
              "    </div>\n",
              "  </div>\n"
            ],
            "application/vnd.google.colaboratory.intrinsic+json": {
              "type": "dataframe",
              "summary": "{\n  \"name\": \"new_data\",\n  \"rows\": 5,\n  \"fields\": [\n    {\n      \"column\": \"DATE\",\n      \"properties\": {\n        \"dtype\": \"date\",\n        \"min\": \"2020-12-31 00:00:00\",\n        \"max\": \"2024-12-31 00:00:00\",\n        \"num_unique_values\": 5,\n        \"samples\": [\n          \"2021-12-31 00:00:00\",\n          \"2024-12-31 00:00:00\",\n          \"2022-12-31 00:00:00\"\n        ],\n        \"semantic_type\": \"\",\n        \"description\": \"\"\n      }\n    },\n    {\n      \"column\": \"ABFRL\",\n      \"properties\": {\n        \"dtype\": \"number\",\n        \"std\": 54.29788388449156,\n        \"min\": 157.66,\n        \"max\": 291.14516129032256,\n        \"num_unique_values\": 5,\n        \"samples\": [\n          214.0,\n          280.78,\n          291.14516129032256\n        ],\n        \"semantic_type\": \"\",\n        \"description\": \"\"\n      }\n    },\n    {\n      \"column\": \"Bajaj-Finance\",\n      \"properties\": {\n        \"dtype\": \"number\",\n        \"std\": 1061.6769661194696,\n        \"min\": 4439.0,\n        \"max\": 6995.155,\n        \"num_unique_values\": 5,\n        \"samples\": [\n          6230.907258064516,\n          6995.155,\n          6771.5\n        ],\n        \"semantic_type\": \"\",\n        \"description\": \"\"\n      }\n    },\n    {\n      \"column\": \"Infosys\",\n      \"properties\": {\n        \"dtype\": \"number\",\n        \"std\": 203.91805835308276,\n        \"min\": 1141.32,\n        \"max\": 1660.355,\n        \"num_unique_values\": 5,\n        \"samples\": [\n          1535.0282258064517,\n          1660.355,\n          1592.1814516129032\n        ],\n        \"semantic_type\": \"\",\n        \"description\": \"\"\n      }\n    },\n    {\n      \"column\": \"Sunpharma\",\n      \"properties\": {\n        \"dtype\": \"number\",\n        \"std\": 410.5022786417059,\n        \"min\": 528.58,\n        \"max\": 1598.625,\n        \"num_unique_values\": 5,\n        \"samples\": [\n          704.1370967741935,\n          1598.625,\n          907.6008064516129\n        ],\n        \"semantic_type\": \"\",\n        \"description\": \"\"\n      }\n    },\n    {\n      \"column\": \"Tata-Motors\",\n      \"properties\": {\n        \"dtype\": \"number\",\n        \"std\": 302.7667637878479,\n        \"min\": 161.5,\n        \"max\": 970.775,\n        \"num_unique_values\": 5,\n        \"samples\": [\n          347.28225806451616,\n          970.775,\n          438.008064516129\n        ],\n        \"semantic_type\": \"\",\n        \"description\": \"\"\n      }\n    }\n  ]\n}"
            }
          },
          "metadata": {},
          "execution_count": 25
        }
      ]
    },
    {
      "cell_type": "markdown",
      "source": [
        "The above table shows the mean values on yearly basis.\n",
        "we can see that the ABFRL, Bajaj-Finance company is quiet constant through out this four year where as sunpharma, tata-motors company is increasing year by year."
      ],
      "metadata": {
        "id": "rL90qAVqulqC"
      }
    },
    {
      "cell_type": "markdown",
      "source": [
        "Lets now see the diagram of highest closing price of Bajaj-Finance company year wise maximum closing price."
      ],
      "metadata": {
        "id": "_0GQiFzNToRz"
      }
    },
    {
      "cell_type": "code",
      "source": [
        "# year end frequency\n",
        "new_data.resample(rule=\"A\").mean()[\"Bajaj-Finance\"].plot()\n",
        "plt.title(\"Bajaj-Finance\")"
      ],
      "metadata": {
        "colab": {
          "base_uri": "https://localhost:8080/",
          "height": 546
        },
        "id": "CoWpnOD7TRkF",
        "outputId": "d865af8b-bb58-4b00-f39e-af470b2d46ba"
      },
      "execution_count": null,
      "outputs": [
        {
          "output_type": "stream",
          "name": "stderr",
          "text": [
            "<ipython-input-26-beaf827a125a>:2: FutureWarning: 'A' is deprecated and will be removed in a future version, please use 'YE' instead.\n",
            "  new_data.resample(rule=\"A\").mean()[\"Bajaj-Finance\"].plot()\n"
          ]
        },
        {
          "output_type": "execute_result",
          "data": {
            "text/plain": [
              "Text(0.5, 1.0, 'Bajaj-Finance')"
            ]
          },
          "metadata": {},
          "execution_count": 26
        },
        {
          "output_type": "display_data",
          "data": {
            "text/plain": [
              "<Figure size 640x480 with 1 Axes>"
            ],
            "image/png": "[encoded data removed]"
          },
          "metadata": {}
        }
      ]
    },
    {
      "cell_type": "markdown",
      "source": [
        "From this diagram we can see that maximum closing price of this stock got raised from 2020. so the performance gets better from 2021 onwards."
      ],
      "metadata": {
        "id": "w7XIRCP0UWSo"
      }
    },
    {
      "cell_type": "code",
      "source": [
        "new_data.resample(rule=\"A\").mean()[\"ABFRL\"].plot(kind=\"bar\")\n",
        "plt.title(\"ABFRL\")"
      ],
      "metadata": {
        "colab": {
          "base_uri": "https://localhost:8080/",
          "height": 678
        },
        "id": "0NCBLR8bUE6C",
        "outputId": "7a16a474-15ad-46d9-8cc4-87af226200f9"
      },
      "execution_count": null,
      "outputs": [
        {
          "output_type": "stream",
          "name": "stderr",
          "text": [
            "<ipython-input-27-ef02a840713c>:1: FutureWarning: 'A' is deprecated and will be removed in a future version, please use 'YE' instead.\n",
            "  new_data.resample(rule=\"A\").mean()[\"ABFRL\"].plot(kind=\"bar\")\n"
          ]
        },
        {
          "output_type": "execute_result",
          "data": {
            "text/plain": [
              "Text(0.5, 1.0, 'ABFRL')"
            ]
          },
          "metadata": {},
          "execution_count": 27
        },
        {
          "output_type": "display_data",
          "data": {
            "text/plain": [
              "<Figure size 640x480 with 1 Axes>"
            ],
            "image/png": "[encoded data removed]"
          },
          "metadata": {}
        }
      ]
    },
    {
      "cell_type": "markdown",
      "source": [
        "From year 2021 the company performance starts doing better but just after two year dip in the mean price can be seen."
      ],
      "metadata": {
        "id": "7bd6ETrMV8Bh"
      }
    },
    {
      "cell_type": "code",
      "source": [
        "new_data.resample(rule='YE').mean()[\"Sunpharma\"].plot(color=\"green\")\n",
        "plt.title(\"Sunpharma\")"
      ],
      "metadata": {
        "colab": {
          "base_uri": "https://localhost:8080/",
          "height": 490
        },
        "id": "Dd_JLyWYVs6X",
        "outputId": "d9757c98-215b-4234-d890-8a119e283748"
      },
      "execution_count": null,
      "outputs": [
        {
          "output_type": "execute_result",
          "data": {
            "text/plain": [
              "Text(0.5, 1.0, 'Sunpharma')"
            ]
          },
          "metadata": {},
          "execution_count": 31
        },
        {
          "output_type": "display_data",
          "data": {
            "text/plain": [
              "<Figure size 640x480 with 1 Axes>"
            ],
            "image/png": "[encoded data removed]"
          },
          "metadata": {}
        }
      ]
    },
    {
      "cell_type": "markdown",
      "source": [
        "We can see that maximum closing price of sunpharma(medical industry) year wise is increasing year by year. it is because medical facility is needed even if whole market get shutdown.due to that closing price does not falls like other industry."
      ],
      "metadata": {
        "id": "gqi9JcllZDQu"
      }
    },
    {
      "cell_type": "code",
      "source": [
        "new_data.resample(rule=\"YE\").mean()[\"Tata-Motors\"].plot()\n",
        "plt.title(\"Tata-Motors\")"
      ],
      "metadata": {
        "colab": {
          "base_uri": "https://localhost:8080/",
          "height": 490
        },
        "id": "8ZwVvAu5Y57U",
        "outputId": "2ef1bed9-eb56-4366-f7c3-4f58655de43a"
      },
      "execution_count": null,
      "outputs": [
        {
          "output_type": "execute_result",
          "data": {
            "text/plain": [
              "Text(0.5, 1.0, 'Tata-Motors')"
            ]
          },
          "metadata": {},
          "execution_count": 32
        },
        {
          "output_type": "display_data",
          "data": {
            "text/plain": [
              "<Figure size 640x480 with 1 Axes>"
            ],
            "image/png": "[encoded data removed]"
          },
          "metadata": {}
        }
      ]
    },
    {
      "cell_type": "markdown",
      "source": [
        "The closing price is constantly increasing suggesting that the company is performing well beacause year by year closing price mean is increasing which indicate to trust that tata-motors to investing on."
      ],
      "metadata": {
        "id": "3CY7oQKcaIkH"
      }
    },
    {
      "cell_type": "code",
      "source": [
        "new_data.resample(rule=\"YE\").mean()[\"Infosys\"].plot(kind=\"bar\")\n",
        "plt.title(\"Infosys\")"
      ],
      "metadata": {
        "colab": {
          "base_uri": "https://localhost:8080/",
          "height": 622
        },
        "id": "kxLhnY-iaAcR",
        "outputId": "db2b39b0-3f03-43e2-9b38-76c98e22ffc4"
      },
      "execution_count": null,
      "outputs": [
        {
          "output_type": "execute_result",
          "data": {
            "text/plain": [
              "Text(0.5, 1.0, 'Infosys')"
            ]
          },
          "metadata": {},
          "execution_count": 33
        },
        {
          "output_type": "display_data",
          "data": {
            "text/plain": [
              "<Figure size 640x480 with 1 Axes>"
            ],
            "image/png": "[encoded data removed]"
          },
          "metadata": {}
        }
      ]
    },
    {
      "cell_type": "markdown",
      "source": [
        "Infosys company is quite stable as per diagram. due to the constant mean value / with minimum fluctucting mean values."
      ],
      "metadata": {
        "id": "JVYXaIo4azrM"
      }
    },
    {
      "cell_type": "code",
      "source": [
        "abfrl_comp=np.std(new_data[\"ABFRL\"]) #Calculate the standard deviation of ABFRL column in the dataframe\n",
        "abfrl_comp #prints the ABFRL"
      ],
      "metadata": {
        "id": "DJkUaVEYwH1q"
      },
      "execution_count": null,
      "outputs": []
    },
    {
      "cell_type": "code",
      "source": [
        "new_data[\"ABFRL\"].plot(figsize=(10,6))\n",
        "plt.fill_between(new_data.index, new_data[\"ABFRL\"] - abfrl_comp, new_data[\"ABFRL\"] + abfrl_comp, alpha=0.2, label=\"Standard Deviation\")\n",
        "plt.xlabel(\"Time Period\")\n",
        "plt.ylabel(\"ABFRL Values\")\n",
        "plt.title(\"Line Chart of ABFRL\")\n",
        "plt.show()"
      ],
      "metadata": {
        "id": "1vahh28hwH6S"
      },
      "execution_count": null,
      "outputs": []
    },
    {
      "cell_type": "markdown",
      "source": [
        "The diagram shows a diagram depicting the historical values ​​of ABFRL (Aditya Birla Fashion and Retail Limited), India’s leading fashion and retail company. The blue line represents long-term ABFRL stock prices, while the gray shaded area around it shows the long-range range of those prices. This graph allows the viewer to understand the volatility and volatility of ABFRL’s stock price, providing insight into the company’s performance over a period of time."
      ],
      "metadata": {
        "id": "_7rpMWtpxLrN"
      }
    },
    {
      "cell_type": "code",
      "source": [
        "bajaj_comp=np.std(new_data[\"Bajaj-Finance\"]) #Calculate the standard deviation of Bajaj column in the dataframe\n",
        "bajaj_comp #prints the bajaj_comp column"
      ],
      "metadata": {
        "id": "mp2dPm2lwIAZ"
      },
      "execution_count": null,
      "outputs": []
    },
    {
      "cell_type": "code",
      "source": [
        "new_data[\"Bajaj-Finance\"].plot(figsize=(10,6),color=\"violet\")\n",
        "plt.fill_between(new_data.index, new_data[\"Bajaj-Finance\"] - bajaj_comp, new_data[\"Bajaj-Finance\"] + bajaj_comp, alpha=0.2, label=\"Standard Deviation\")\n",
        "plt.xlabel(\"Time Period\")\n",
        "plt.ylabel(\"Bajaj-Finance Values\")\n",
        "plt.title(\"Line Chart of Bajaj-Finance\")\n",
        "plt.show()"
      ],
      "metadata": {
        "id": "dcAUqRHywIGz"
      },
      "execution_count": null,
      "outputs": []
    },
    {
      "cell_type": "markdown",
      "source": [
        "The figure shows a graphical representation of the historical stock price of Bajaj Finance, India’s leading non-bank finance company. The blue line represents the Bajaj Finance stock price over time, while the shaded gray area around it shows the standard deviation of those prices This graphic allows the viewer to understand the volatility and amount of volatility in the share price of Bajaj Finance"
      ],
      "metadata": {
        "id": "O8XFPg2QxV4R"
      }
    },
    {
      "cell_type": "code",
      "source": [
        "info_comp=np.std(new_data[\"Infosys\"])#Calculate the standard deviation of ABFRL column in the dataframe\n",
        "info_comp"
      ],
      "metadata": {
        "id": "9RE2EodwwINN"
      },
      "execution_count": null,
      "outputs": []
    },
    {
      "cell_type": "code",
      "source": [
        "new_data[\"Infosys\"].plot(figsize=(10,6),color=\"green\")\n",
        "plt.fill_between(new_data.index, new_data[\"Infosys\"] - info_comp, new_data[\"Infosys\"] + info_comp, alpha=0.2, label=\"Standard Deviation\")\n",
        "plt.xlabel(\"Time Period\")\n",
        "plt.ylabel(\"Infosys Values\")\n",
        "plt.title(\"Line Chart of Infosys\")\n",
        "plt.show()"
      ],
      "metadata": {
        "id": "6kUrYQoQwIS-"
      },
      "execution_count": null,
      "outputs": []
    },
    {
      "cell_type": "markdown",
      "source": [
        "The figure shows a sketch of the historical list prices of Infosys, India’s leading IT company. The blue line represents the price of Infosys over the years, as even the gray shading around it shows the same old difference in that price This image enables the viewer to hear changes in Infosys inventory costs as well as under volatility diplomas, giving him insight into the company's performance over a period of time"
      ],
      "metadata": {
        "id": "kwlNX179xeYn"
      }
    },
    {
      "cell_type": "code",
      "source": [
        "sunph_comp=np.std(new_data[\"Sunpharma\"]) #Calculate the standard deviation of Sunpharma column in the dataframe\n",
        "sunph_comp"
      ],
      "metadata": {
        "id": "717M3GzDwIZe"
      },
      "execution_count": null,
      "outputs": []
    },
    {
      "cell_type": "code",
      "source": [
        "new_data[\"Sunpharma\"].plot(figsize=(10,6),color=\"blue\")\n",
        "plt.fill_between(new_data.index, new_data[\"Sunpharma\"] - sunph_comp, new_data[\"Sunpharma\"] + sunph_comp, alpha=0.2, label=\"Standard Deviation\")\n",
        "plt.xlabel(\"Time Period\")\n",
        "plt.ylabel(\"Sunpharma Values\")\n",
        "plt.title(\"Line Chart of Sunpharma\")\n",
        "plt.show()"
      ],
      "metadata": {
        "id": "5ePtZs2FxkOM"
      },
      "execution_count": null,
      "outputs": []
    },
    {
      "cell_type": "markdown",
      "source": [
        "The figure shows a graphical representation of the historical stock price of Sun Pharma, India’s leading pharmaceutical company. The blue line represents the Sunpharma stock price over time, while the gray shaded area around it shows the range of those values. This graph allows the viewer to understand the changes in Sunpharma's stock price and the extent of its volatility, and provides an overview of the company's performance over a period of time"
      ],
      "metadata": {
        "id": "1QmVouhdxqip"
      }
    },
    {
      "cell_type": "code",
      "source": [
        "tata_comp=np.std(new_data[\"Tata-Motors\"]) #Calculate the standard deviation of tata column in the dataframe\n",
        "tata_comp"
      ],
      "metadata": {
        "id": "Os9xmno4xkTk"
      },
      "execution_count": null,
      "outputs": []
    },
    {
      "cell_type": "code",
      "source": [
        "new_data[\"Tata-Motors\"].plot(figsize=(10,6),color=\"red\")\n",
        "plt.fill_between(new_data.index, new_data[\"Tata-Motors\"] - tata_comp, new_data[\"Tata-Motors\"] + tata_comp, alpha=0.2, label=\"Standard Deviation\")\n",
        "plt.xlabel(\"Time Period\")\n",
        "plt.ylabel(\"Tata-Motors Values\")\n",
        "plt.title(\"Line Chart of Tata-Motors\")\n",
        "plt.show()"
      ],
      "metadata": {
        "id": "HJH31K6txkaL"
      },
      "execution_count": null,
      "outputs": []
    },
    {
      "cell_type": "markdown",
      "source": [
        "The graphic shows a graphical representation of the historical value of Tesla Motors, a major manufacturer of electric cars, over time. The blue line represents Tesla's stock price, while the gray shaded area around it shows the range of those prices. This visualization allows the viewer to understand the changes and volatility of Tesla’s stock price, providing insight into the company’s performance over a specific period of time"
      ],
      "metadata": {
        "id": "C8Hk11CBxx_3"
      }
    },
    {
      "cell_type": "code",
      "source": [
        "plt.figure(figsize=(10,10)) # generate a box plot using seaborn for thensecified stocks\n",
        "sns.heatmap(new_data.corr(),annot=True),plt.show()"
      ],
      "metadata": {
        "id": "zereenW4wIfK"
      },
      "execution_count": null,
      "outputs": []
    },
    {
      "cell_type": "code",
      "source": [],
      "metadata": {
        "id": "KCXNYlG0x2ON"
      },
      "execution_count": null,
      "outputs": []
    },
    {
      "cell_type": "code",
      "source": [],
      "metadata": {
        "id": "K36tZPuYx2U0"
      },
      "execution_count": null,
      "outputs": []
    },
    {
      "cell_type": "code",
      "source": [],
      "metadata": {
        "id": "rdqwdBunx2fL"
      },
      "execution_count": null,
      "outputs": []
    },
    {
      "cell_type": "code",
      "source": [
        "df.isnull().sum()\n",
        "df.dropna(inplace=True)"
      ],
      "metadata": {
        "id": "1SQYbfJEawHn"
      },
      "execution_count": null,
      "outputs": []
    },
    {
      "cell_type": "code",
      "source": [
        "## assigning weights to our stocks\n",
        "weights=np.array([0.2,0.2,0.2,0.2,0.2])"
      ],
      "metadata": {
        "id": "0YQ7dibTuF_m"
      },
      "execution_count": null,
      "outputs": []
    },
    {
      "cell_type": "markdown",
      "source": [
        "Assigning equal weights initially in other words investing equal amount of money in five stocks. here there are five stocks so investing 20% of money in each stock (Total 100% investing money)."
      ],
      "metadata": {
        "id": "oFUUI-vxuPnT"
      }
    },
    {
      "cell_type": "code",
      "source": [
        "df.set_index(\"DATE\",inplace=True)"
      ],
      "metadata": {
        "id": "oSqRA2GGuGCp"
      },
      "execution_count": null,
      "outputs": []
    },
    {
      "cell_type": "markdown",
      "source": [
        "Making date column as is unique indentifier of each rows.this function has this purpose."
      ],
      "metadata": {
        "id": "CshtoRdBuU2X"
      }
    },
    {
      "cell_type": "code",
      "source": [
        "## Daily simple return\n",
        "returns= df.pct_change()\n",
        "returns"
      ],
      "metadata": {
        "id": "1D6LzYWauGF4"
      },
      "execution_count": null,
      "outputs": []
    },
    {
      "cell_type": "markdown",
      "source": [
        "Returns means it is daily percentage change in stock price.in other words it is percentage change in the value of an investment over a single day."
      ],
      "metadata": {
        "id": "gpZ1tqnpuaLI"
      }
    },
    {
      "cell_type": "code",
      "source": [
        "cov_variance_annual=returns.cov()*252\n",
        "cov_variance_annual"
      ],
      "metadata": {
        "id": "rKZwcXjmuGJW"
      },
      "execution_count": null,
      "outputs": []
    },
    {
      "cell_type": "markdown",
      "source": [
        "It is covariance of the data over the years. covariance can be calculated with two numerical column to know the association over a specific period"
      ],
      "metadata": {
        "id": "6R5RORXNuhRQ"
      }
    },
    {
      "cell_type": "code",
      "source": [
        "## calculate portfolio variance\n",
        "port_variance=np.dot(weights.T,np.dot(cov_variance_annual,weights))\n",
        "port_variance"
      ],
      "metadata": {
        "id": "AIf467b2uGNE"
      },
      "execution_count": null,
      "outputs": []
    },
    {
      "cell_type": "markdown",
      "source": [
        "Here we are calculating the portfolio variance by multiplying the weights and annual covariance."
      ],
      "metadata": {
        "id": "G4p5o5nMunsO"
      }
    },
    {
      "cell_type": "code",
      "source": [
        "port_volatility=np.sqrt(port_variance)\n",
        "port_volatility"
      ],
      "metadata": {
        "id": "ECRWF-80uGQI"
      },
      "execution_count": null,
      "outputs": []
    },
    {
      "cell_type": "markdown",
      "source": [
        "Here we are finding the standerd deviation of portfoilio variance."
      ],
      "metadata": {
        "id": "HhsuGmqgutlC"
      }
    },
    {
      "cell_type": "code",
      "source": [
        "## calculate annual portfolio return\n",
        "portfoliosimpleannualreturn=np.sum(returns.mean()*weights)*252\n",
        "portfoliosimpleannualreturn"
      ],
      "metadata": {
        "id": "kfyDQBdjuGTg"
      },
      "execution_count": null,
      "outputs": []
    },
    {
      "cell_type": "code",
      "source": [
        "## calculate expected annual return, volatility\n",
        "per_vols=str(round(port_volatility,2) *100) + '%'\n",
        "per_return=str(round(portfoliosimpleannualreturn,2) *100) + '%'\n",
        "\n",
        "\n",
        "print(\"expected annual return: \" +per_return)\n",
        "print(\"Annual Volatility: \" +per_vols)\n"
      ],
      "metadata": {
        "id": "dV2Mgjpkuwbg"
      },
      "execution_count": null,
      "outputs": []
    },
    {
      "cell_type": "markdown",
      "source": [
        "By using above formula we have found that expected annual return and annual volatility are 32% and 20%."
      ],
      "metadata": {
        "id": "-6HA-iUHu1rr"
      }
    },
    {
      "cell_type": "code",
      "source": [
        "pip install PyPortfolioOpt"
      ],
      "metadata": {
        "id": "FHCFVVT3uweo"
      },
      "execution_count": null,
      "outputs": []
    },
    {
      "cell_type": "code",
      "source": [
        "from pypfopt.efficient_frontier import EfficientFrontier\n",
        "from pypfopt import risk_models\n",
        "from pypfopt import expected_returns"
      ],
      "metadata": {
        "id": "smN31yTIuwiR"
      },
      "execution_count": null,
      "outputs": []
    },
    {
      "cell_type": "markdown",
      "source": [
        "Importing the important library for portfolio optimization that are efficient frontier , risk models , expected returns."
      ],
      "metadata": {
        "id": "_WBYQuZku9MA"
      }
    },
    {
      "cell_type": "code",
      "source": [
        "## portfolio optimization\n",
        "## Calculate the expected return  and annualized sample covarience matrix of assets\n",
        "mu= expected_returns.mean_historical_return(df)\n",
        "S= risk_models.sample_cov(df)\n",
        "\n",
        "\n",
        "## optimize for maximum sharpe ratio\n",
        "ef=EfficientFrontier(mu,S)\n",
        "weights=ef.max_sharpe()\n",
        "cleaned_weights=ef.clean_weights()\n",
        "print(cleaned_weights)\n",
        "ef.portfolio_performance(verbose=True)"
      ],
      "metadata": {
        "id": "ouOnaNAguwlv"
      },
      "execution_count": null,
      "outputs": []
    },
    {
      "cell_type": "markdown",
      "source": [
        "##Final conclusion of the portfolio optimization with efficient frontier\n",
        "With help of this method it suggest that the invest 66% of the money in Sunpharma stock and 33% of the money in Tata-Motors which will give annual return 49% and volatility 21.8%\n",
        "\n",
        "If we compare the before portfolio optimization annual return is 32% and after the portfolio optimization annual return is 49%. It means that return got increased with help of this method."
      ],
      "metadata": {
        "id": "USDvngTJvFRp"
      }
    },
    {
      "cell_type": "code",
      "source": [
        "import matplotlib.pyplot as plt\n",
        "from pypfopt.efficient_frontier import EfficientFrontier\n",
        "from pypfopt import risk_models\n",
        "from pypfopt import expected_returns\n",
        "\n",
        "# Calculate the efficient frontier\n",
        "#Initial calculation of efficient frontier for the max sharpe portfolio\n",
        "ef = EfficientFrontier(mu, S)\n",
        "weights = ef.max_sharpe()\n",
        "cleaned_weights = ef.clean_weights()\n",
        "# Get portfolio performance for the max sharpe portfolio\n",
        "ret, vol, sharpe = ef.portfolio_performance(verbose=True)\n",
        "\n",
        "\n",
        "# Generate the efficient frontier points\n",
        "n_points = 100  # Number of points to plot\n",
        "weights_frontier = []\n",
        "mu_frontier = []\n",
        "sigma_frontier = []\n",
        "\n",
        "#Loop through the desired number of efficient frontier points to plot\n",
        "for i in range(n_points):\n",
        "    #Create a new EfficientFrontier object for each point on the efficient frontier\n",
        "    ef_temp = EfficientFrontier(mu, S)  # Create a new instance\n",
        "    weights = ef_temp.efficient_return(target_return=(ret - 0.1) + i * (0.2 / n_points))  #Use temp instance\n",
        "    weights_frontier.append(weights)\n",
        "    #Calculate portfolio performance for this point on the efficient frontier\n",
        "    mu_frontier.append(ef_temp.portfolio_performance()[0])  # Use temp instance\n",
        "    sigma_frontier.append(ef_temp.portfolio_performance()[1])  # Use temp instance\n",
        "\n",
        "\n",
        "# Create the plot\n",
        "fig, ax = plt.subplots()\n",
        "# Scatter plot of efficient frontier\n",
        "ax.scatter(sigma_frontier, mu_frontier, marker='o', label='Efficient Frontier')\n",
        "\n",
        "# Highlight the maximum Sharpe ratio portfolio\n",
        "ax.scatter(vol, ret, marker='*', color='r', s=200, label='Max Sharpe Ratio')\n",
        "\n",
        "# Add labels\n",
        "ax.set_xlabel('Volatility')\n",
        "ax.set_ylabel('Expected Return')\n",
        "ax.set_title('Efficient Frontier')\n",
        "\n",
        "# Display the plot\n",
        "plt.show()"
      ],
      "metadata": {
        "id": "BIoTRxhJvBBt"
      },
      "execution_count": null,
      "outputs": []
    },
    {
      "cell_type": "markdown",
      "source": [
        "Diagram of efficient frontier. the red star is indicating combination of the optimal combination to give highest return with no or minimum increase in risk."
      ],
      "metadata": {
        "id": "0V6tkYh0vMGG"
      }
    },
    {
      "cell_type": "code",
      "source": [
        "##get the discrete allocation of each share per stock\n",
        "\n",
        "from pypfopt.discrete_allocation import DiscreteAllocation, get_latest_prices\n",
        "\n",
        "latest_prices= get_latest_prices(df)\n",
        "weights=cleaned_weights\n",
        "da=DiscreteAllocation(weights,latest_prices,total_portfolio_value=12000)\n",
        "\n",
        "allocation,leftover=da.lp_portfolio()\n",
        "print(\"Discrete allocation:\",allocation)\n",
        "print(\"Funds remaining: Rs {:.2f}\".format(leftover))\n"
      ],
      "metadata": {
        "id": "qmUrmsrRvBFg"
      },
      "execution_count": null,
      "outputs": []
    },
    {
      "cell_type": "markdown",
      "source": [
        "It suggesting to buy ABFRL 1 stock , Sunpharma 4 stocks , Tata motors 4 stocks. after buying these stocks the investor will remain with 390 Rupees as well."
      ],
      "metadata": {
        "id": "IaPNWLgOvTKn"
      }
    },
    {
      "cell_type": "code",
      "source": [
        "print(latest_prices)\n",
        "## 334*1  - ABFRL\n",
        "## 1909*4 - Sunpharma\n",
        "## 910*4 - Tata-Motors"
      ],
      "metadata": {
        "id": "2AvfdbmCvRih"
      },
      "execution_count": null,
      "outputs": []
    },
    {
      "cell_type": "code",
      "source": [
        "# prompt: how to make the peichart out of the data 334*1  - ABFRL\n",
        "# ## 1909*4 - Sunpharma\n",
        "# ## 910*4 - Tata-Motors\n",
        "\n",
        "import matplotlib.pyplot as plt\n",
        "\n",
        "# Data for the pie chart\n",
        "labels = ['ABFRL', 'Sunpharma', 'Tata-Motors', 'Remaining-funds']\n",
        "sizes = [334, 1909 * 4, 910 * 4, 390]  # Adjusted values based on your data\n",
        "colors = ['green', 'lightskyblue', 'gold', 'red']\n",
        "\n",
        "# Create the pie chart\n",
        "plt.pie(sizes, labels=labels, colors=colors, autopct='%1.01f%%', shadow=True, startangle=130,radius=2)\n",
        "plt.axis('equal')  # Equal aspect ratio ensures that pie is drawn as a circle.\n",
        "plt.title('Stock Portfolio Distribution with help of Efficient Frontier')\n",
        "plt.show()"
      ],
      "metadata": {
        "id": "lnvimH1RvBJy"
      },
      "execution_count": null,
      "outputs": []
    },
    {
      "cell_type": "markdown",
      "source": [
        "Pie chart which shows the distribution of the investing money in each stocks which clearly show that it suggest to invest 63.6% in sunpharma, 30.3% in Tata-Motors, 2.8% in ABFRL."
      ],
      "metadata": {
        "id": "eKbeTebovcpV"
      }
    },
    {
      "cell_type": "markdown",
      "source": [
        "##Portfolio optimization using Robust Optimization"
      ],
      "metadata": {
        "id": "IPGHfkyevgOw"
      }
    },
    {
      "cell_type": "code",
      "source": [
        "print(returns[\"ABFRL\"].min())\n",
        "print(returns[\"Bajaj-Finance\"].min())\n",
        "print(returns[\"Infosys\"].min())\n",
        "print(returns[\"Sunpharma\"].min())\n",
        "print(returns[\"Tata-Motors\"].min())"
      ],
      "metadata": {
        "id": "DmsveQdRvX-n"
      },
      "execution_count": null,
      "outputs": []
    },
    {
      "cell_type": "markdown",
      "source": [
        "Calculating the minimum expected return of five companies to use in the futher analysis."
      ],
      "metadata": {
        "id": "398hdf8nvmou"
      }
    },
    {
      "cell_type": "code",
      "source": [
        "print(returns[\"ABFRL\"].max())\n",
        "print(returns[\"Bajaj-Finance\"].max())\n",
        "print(returns[\"Infosys\"].max())\n",
        "print(returns[\"Sunpharma\"].max())\n",
        "print(returns[\"Tata-Motors\"].max())"
      ],
      "metadata": {
        "id": "NH0H-hCZvYCw"
      },
      "execution_count": null,
      "outputs": []
    },
    {
      "cell_type": "markdown",
      "source": [
        "Calculating the maximum expected return of five companies to use in the futher analysis."
      ],
      "metadata": {
        "id": "QYO6S8ZTvsC5"
      }
    },
    {
      "cell_type": "code",
      "source": [
        "covariance=returns.cov()\n",
        "covariance=np.array(covariance)\n",
        "covariance"
      ],
      "metadata": {
        "id": "79G-PbB2vsg9"
      },
      "execution_count": null,
      "outputs": []
    },
    {
      "cell_type": "markdown",
      "source": [
        "Finding coveriance matrix with help of expected returns."
      ],
      "metadata": {
        "id": "XYL7dN1Bvzxb"
      }
    },
    {
      "cell_type": "code",
      "source": [
        "import cvxpy as cp\n",
        "import numpy as np\n",
        "\n",
        "# Define the number of assets\n",
        "n_assets = 5\n",
        "\n",
        "# Define uncertain expected returns and covariance matrix\n",
        "mu_min = np.array([-0.092,-0.077,-0.094,-0.042,-0.104])\n",
        "mu_max = np.array([0.100,0.106,0.078,0.100,0.204])\n",
        "Sigma = covariance\n",
        "\n",
        "# Define the optimization problem\n",
        "w = cp.Variable(n_assets)\n",
        "ret = cp.sum(cp.multiply(mu_min, w))\n",
        "risk = cp.quad_form(w, Sigma)\n",
        "\n",
        "# Constraints: Weights must sum to 1, and all weights must be non-negative\n",
        "constraints = [cp.sum(w) == 1, w >= 0]\n",
        "\n",
        "lambda_reg = 0.01  # Adjust the regularization parameter as needed\n",
        "reg_term = cp.sum(cp.square(w))\n",
        "\n",
        "# Modify the objective function\n",
        "prob = cp.Problem(cp.Maximize(ret - lambda_reg * reg_term), constraints)\n",
        "prob.solve()\n",
        "\n",
        "\n",
        "print(\"Optimal portfolio weights:\", w.value)"
      ],
      "metadata": {
        "id": "Boeu45ZXv135"
      },
      "execution_count": null,
      "outputs": []
    },
    {
      "cell_type": "markdown",
      "source": [
        "**As the optimal weights suggesting to invest almost in sunpharma company with negligible amount of money in other four companies.**"
      ],
      "metadata": {
        "id": "vJNn7Ys1v44N"
      }
    },
    {
      "cell_type": "code",
      "source": [
        "# Data for the pie chart - focusing only on Sunpharma\n",
        "labels = ['Sunpharma']\n",
        "sizes = [1909 * 4]  # Using the Sunpharma allocation from the original code\n",
        "colors = ['green']\n",
        "\n",
        "# Create the pie chart\n",
        "plt.pie(sizes, labels=labels, colors=colors, autopct='%1.01f%%', shadow=True, startangle=130)\n",
        "plt.axis('equal')  # Equal aspect ratio ensures that pie is drawn as a circle.\n",
        "plt.title('Sunpharma Stock Allocation')\n",
        "plt.show()"
      ],
      "metadata": {
        "id": "zMUXrjokv6Dv"
      },
      "execution_count": null,
      "outputs": []
    },
    {
      "cell_type": "markdown",
      "source": [
        "Portfolio optimzation through the robust optimization suggest to investing 100% of investing in Sunpharma company."
      ],
      "metadata": {
        "id": "n8CAOTchwAvq"
      }
    },
    {
      "cell_type": "code",
      "source": [],
      "metadata": {
        "id": "hJIc71fvwBXm"
      },
      "execution_count": null,
      "outputs": []
    }
  ]
}